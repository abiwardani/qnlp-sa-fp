{
 "cells": [
  {
   "cell_type": "code",
   "execution_count": 18,
   "id": "ee75f93d",
   "metadata": {},
   "outputs": [],
   "source": [
    "import numpy as np\n",
    "from sympy.simplify.fu import fu, L, TR9, TR10i, TR11\n",
    "from sympy import factor, sin, cos, powsimp, exp\n",
    "from sympy import re, im, I, E, Abs, S, conjugate\n",
    "from sympy import symbols, Function, lambdify, simplify, preorder_traversal, Float, latex, pprint\n",
    "from IPython.display import display\n",
    "from math import pi\n",
    "\n",
    "def tensor_product(a, b):\n",
    "    if (\"__len__\" not in dir(a)):\n",
    "        return a*b\n",
    "    elif (\"__len__\" not in dir(b)):\n",
    "        return b*a\n",
    "    else:\n",
    "        res = [tensor_product(a[i//len(b)], b[i%len(b)]) for i in range(len(a)*len(b))]\n",
    "        return np.array(res)\n",
    "\n",
    "def transform_vect(M, v):\n",
    "    if (len(M) == len(v) and len(M[0]) == len(v)):\n",
    "        return matmul(M, v)\n",
    "    else:\n",
    "        return v\n",
    "\n",
    "def matmul(a, b):\n",
    "    return np.matmul(a, b)"
   ]
  },
  {
   "cell_type": "code",
   "execution_count": 4,
   "id": "454b9dca",
   "metadata": {},
   "outputs": [],
   "source": [
    "from sympy import init_printing\n",
    "\n",
    "init_printing(use_latex='mathjax')"
   ]
  },
  {
   "cell_type": "code",
   "execution_count": 20,
   "id": "aaccaf52",
   "metadata": {},
   "outputs": [],
   "source": [
    "def diag_ones(dim):\n",
    "    return np.array([[int(j == i) for j in range(dim)] for i in range(dim)], dtype='object')\n",
    "\n",
    "def id(n):\n",
    "    return diag_ones(2**n)\n",
    "\n",
    "def rz(theta):\n",
    "    return np.array([[exp(-I*theta/2), 0], [0, exp(I*theta/2)]])\n",
    "\n",
    "def rx(theta):\n",
    "    return np.array([[cos(theta/2), -I*sin(theta/2)], [-I*sin(theta/2), cos(theta/2)]])\n",
    "\n",
    "def ry(theta):\n",
    "    return np.array([[cos(theta/2), -sin(theta/2)], [sin(theta/2), cos(theta/2)]])\n",
    "\n",
    "def p(theta):\n",
    "    return np.array([[1, 0], [0, exp(I*theta/2)]])\n",
    "    \n",
    "def x():\n",
    "    return np.array([[0, 1], [1, 0]])\n",
    "\n",
    "def y():\n",
    "    return np.array([[0, -1j], [1j, 0]])\n",
    "\n",
    "def z():\n",
    "    return np.array([[1, 0], [0, -1]])\n",
    "\n",
    "def cnot(direction=1):\n",
    "    return cgate(x(), direction)\n",
    "\n",
    "def cgate(M, direction=1):\n",
    "    base = diag_ones(2*len(M))\n",
    "\n",
    "    if direction == 1:\n",
    "        k = len(M)\n",
    "    else:\n",
    "        k = 0\n",
    "\n",
    "    for i in range(len(M)):\n",
    "        for j in range(len(M[0])):\n",
    "            base[i+k][j+k] = M[i][j]\n",
    "\n",
    "    return np.array(base)\n",
    "\n",
    "def cgate2(M, c, t, n=None):\n",
    "    if n is None:\n",
    "        n = max(c, t)+1\n",
    "\n",
    "    ket_0 = np.array([1, 0])\n",
    "    ket_1 = np.array([0, 1])\n",
    "\n",
    "    proj0x0 = np.outer(ket_0, dagger(ket_0))\n",
    "    proj1x1 = np.outer(ket_1, dagger(ket_1))\n",
    "\n",
    "    proj0s = [id(1) for _ in range(n)]\n",
    "    proj0s[c] = proj0x0\n",
    "    proj0s[t] = id(1)\n",
    "\n",
    "    proj1s = [id(1) for _ in range(n)]\n",
    "    proj1s[c] = proj1x1\n",
    "    proj1s[t] = M\n",
    "\n",
    "    return np.array(mtp2(proj0s)+mtp2(proj1s))\n",
    "\n",
    "def dagger(M):\n",
    "    return M.transpose()\n",
    "\n",
    "def conjugate(M):\n",
    "    res = [[i for i in row] for row in M]\n",
    "\n",
    "    for i in range(len(M)):\n",
    "        for j in range(len(M)):\n",
    "            if type(res[i][j]) == type(1+1j):\n",
    "                res[i][j] = np.conjugate(res[i][j])\n",
    "            if type(res[i][j] == e):\n",
    "                res[i][j] = e(-res[i][j].args())\n",
    "            elif type(-res[i][j] == e):\n",
    "                res[i][j] = -e((-res[i][j]).args())\n",
    "\n",
    "    return res\n",
    "\n",
    "def idx_to_vect(bit_str):\n",
    "    ket_0 = np.array([1, 0])\n",
    "    ket_1 = np.array([0, 1])\n",
    "\n",
    "    kets = [ket_0 if b == \"0\" else ket_1 for b in bit_str]\n",
    "\n",
    "    return multitensor_product(kets)\n",
    "\n",
    "def braket(sv1, sv2):\n",
    "    sv1_dagger = dagger(sv1)\n",
    "\n",
    "    res = matmul(sv1_dagger, sv2)\n",
    "\n",
    "    return res\n",
    "\n",
    "def multitensor_product(mats):\n",
    "    res = None\n",
    "\n",
    "    for mat in mats:\n",
    "        if res is None:\n",
    "            res = mat\n",
    "        else:\n",
    "            res = tensor_product(res, mat)\n",
    "\n",
    "    return np.array(res)\n",
    "\n",
    "def mtp2(mats):\n",
    "    res = None\n",
    "    tempmat = None\n",
    "\n",
    "    for mat in mats[::-1]:\n",
    "        if res is None:\n",
    "            if tempmat is None:\n",
    "                tempmat = mat\n",
    "            else:\n",
    "                res = tensor_product(mat, tempmat)\n",
    "        else:\n",
    "            res = tensor_product(mat, res)\n",
    "\n",
    "    return res\n",
    "\n",
    "def idx_to_vect2(bit_str):\n",
    "    ket_0 = np.array([1, 0])\n",
    "    ket_1 = np.array([0, 1])\n",
    "\n",
    "    kets = [ket_0 if b == \"0\" else ket_1 for b in bit_str]\n",
    "\n",
    "    return mtp2(kets)\n",
    "\n",
    "def tfv(M, v):\n",
    "    return transform_vect(M, v)\n",
    "\n",
    "ket_0 = np.array([1, 0])\n",
    "ket_1 = np.array([0, 1])\n",
    "H = 1/np.sqrt(2)*np.array([[1, 1], [1, -1]])"
   ]
  },
  {
   "cell_type": "markdown",
   "id": "b832bed8",
   "metadata": {},
   "source": [
    "<!-- ![Sample SimpleSA circuit](../data/misc/sample-simplesa-circuit.png) -->\n",
    "<img src=\"../data/misc/sample-simplesa-circuit.png\" alt=\"Sample SimpleSA circuit\" width=300px align=left>"
   ]
  },
  {
   "cell_type": "code",
   "execution_count": 37,
   "id": "6e3b8a6b",
   "metadata": {},
   "outputs": [],
   "source": [
    "x0 = symbols('x_0', real=True)\n",
    "x1 = symbols('x_1', real=True)\n",
    "x2 = symbols('x_2', real=True)\n",
    "pi = symbols('\\\\pi', real=True)\n",
    "# pi = 3.141592653589"
   ]
  },
  {
   "cell_type": "code",
   "execution_count": 38,
   "id": "1e7a2f17",
   "metadata": {},
   "outputs": [],
   "source": [
    "psi0 = idx_to_vect(\"00\")\n",
    "psi1 = tfv(mtp2([rx(pi/2), rx(pi/2)]), psi0)\n",
    "psi2 = tfv(cgate2(x(), 0, 1), psi1)\n",
    "psi3 = tfv(mtp2([id(1), p(2*(pi-x0)*(pi-x1))]), psi2)\n",
    "psi4 = tfv(cgate2(x(), 0, 1), psi3)\n",
    "psi5 = tfv(mtp2([rx(-pi/2), rx(-pi/2)]), psi4)\n",
    "\n",
    "psi = psi5"
   ]
  },
  {
   "cell_type": "code",
   "execution_count": 39,
   "id": "1bf3c68e",
   "metadata": {},
   "outputs": [
    {
     "data": {
      "text/latex": [
       "$\\displaystyle \\left(\\frac{\\left(1 - \\cos{\\left(\\pi \\right)}\\right) e^{i \\left(\\pi^{2} + x_{0} x_{1}\\right)}}{4} + \\left(\\sin^{4}{\\left(\\frac{\\pi}{4} \\right)} + \\cos^{4}{\\left(\\frac{\\pi}{4} \\right)}\\right) e^{i \\pi \\left(x_{0} + x_{1}\\right)}\\right) e^{- i \\pi \\left(x_{0} + x_{1}\\right)}$"
      ],
      "text/plain": [
       "⎛                  ⎛   2        ⎞                                           ⎞ \n",
       "⎜                ⅈ⋅⎝\\pi  + x₀⋅x₁⎠                                           ⎟ \n",
       "⎜(1 - cos(\\pi))⋅ℯ                   ⎛   4⎛\\pi⎞      4⎛\\pi⎞⎞  ⅈ⋅\\pi⋅(x₀ + x₁)⎟ \n",
       "⎜──────────────────────────────── + ⎜sin ⎜───⎟ + cos ⎜───⎟⎟⋅ℯ               ⎟⋅\n",
       "⎝               4                   ⎝    ⎝ 4 ⎠       ⎝ 4 ⎠⎠                 ⎠ \n",
       "\n",
       "                 \n",
       "                 \n",
       " -ⅈ⋅\\pi⋅(x₀ + x₁)\n",
       "ℯ                \n",
       "                 "
      ]
     },
     "metadata": {},
     "output_type": "display_data"
    }
   ],
   "source": [
    "# derive expression for <00|psi>\n",
    "\n",
    "raw00 = braket(idx_to_vect(\"00\"), psi).expand(trig=True).expand()\n",
    "\n",
    "braket00 = simplify(raw00, maxn=17, chop=True)\n",
    "temp = braket00\n",
    "for a in preorder_traversal(temp):\n",
    "    if isinstance(a, Float):\n",
    "        braket00 = braket00.subs(a, round(a, 15))\n",
    "\n",
    "display(braket00)"
   ]
  },
  {
   "cell_type": "code",
   "execution_count": 40,
   "id": "cef85109",
   "metadata": {},
   "outputs": [
    {
     "data": {
      "text/latex": [
       "$\\displaystyle \\frac{\\left(1 - \\cos{\\left(\\pi \\right)}\\right)^{2} \\sin^{2}{\\left(\\pi^{2} - \\pi x_{0} - \\pi x_{1} + x_{0} x_{1} \\right)}}{16} + \\frac{\\left(- \\cos{\\left(\\pi \\right)} - \\cos{\\left(\\pi^{2} - \\pi x_{0} - \\pi x_{1} + x_{0} x_{1} \\right)} + \\frac{\\cos{\\left(- \\pi^{2} + \\pi x_{0} + \\pi x_{1} + \\pi - x_{0} x_{1} \\right)}}{2} + \\frac{\\cos{\\left(\\pi^{2} - \\pi x_{0} - \\pi x_{1} + \\pi + x_{0} x_{1} \\right)}}{2} - 3\\right)^{2}}{16}$"
      ],
      "text/plain": [
       "                                                                              \n",
       "                                                       ⎛                      \n",
       "                                                       ⎜               ⎛   2  \n",
       "              2    2⎛   2                          ⎞   ⎜-cos(\\pi) - cos⎝\\pi  -\n",
       "(1 - cos(\\pi)) ⋅sin ⎝\\pi  - \\pi⋅x₀ - \\pi⋅x₁ + x₀⋅x₁⎠   ⎝                      \n",
       "──────────────────────────────────────────────────── + ───────────────────────\n",
       "                         16                                                   \n",
       "\n",
       "                                                                              \n",
       "                               ⎛     2                                ⎞      ⎛\n",
       "                        ⎞   cos⎝- \\pi  + \\pi⋅x₀ + \\pi⋅x₁ + \\pi - x₀⋅x₁⎠   cos⎝\n",
       " \\pi⋅x₀ - \\pi⋅x₁ + x₀⋅x₁⎠ + ─────────────────────────────────────────── + ────\n",
       "                                                 2                            \n",
       "──────────────────────────────────────────────────────────────────────────────\n",
       "                                                16                            \n",
       "\n",
       "                                          2\n",
       "   2                                ⎞    ⎞ \n",
       "\\pi  - \\pi⋅x₀ - \\pi⋅x₁ + \\pi + x₀⋅x₁⎠    ⎟ \n",
       "───────────────────────────────────── - 3⎟ \n",
       "                2                        ⎠ \n",
       "───────────────────────────────────────────\n",
       "                                           "
      ]
     },
     "metadata": {},
     "output_type": "display_data"
    }
   ],
   "source": [
    "# calculate P(|00>) = |<00|psi>|\n",
    "\n",
    "p00 = simplify(re(braket00)*re(braket00)+im(braket00)*im(braket00))\n",
    "\n",
    "display(p00)"
   ]
  },
  {
   "cell_type": "code",
   "execution_count": 41,
   "id": "c13411c5",
   "metadata": {},
   "outputs": [
    {
     "data": {
      "text/latex": [
       "$\\displaystyle i \\left(- 2 e^{i \\left(\\pi^{2} + x_{0} x_{1}\\right)} \\cos^{2}{\\left(\\frac{\\pi}{4} \\right)} + e^{i \\left(\\pi^{2} + x_{0} x_{1}\\right)} + e^{i \\pi \\left(x_{0} + x_{1}\\right)} \\cos{\\left(\\frac{\\pi}{2} \\right)}\\right) e^{- i \\pi \\left(x_{0} + x_{1}\\right)} \\sin{\\left(\\frac{\\pi}{4} \\right)} \\cos{\\left(\\frac{\\pi}{4} \\right)}$"
      ],
      "text/plain": [
       "  ⎛       ⎛   2        ⎞                ⎛   2        ⎞                        \n",
       "  ⎜     ⅈ⋅⎝\\pi  + x₀⋅x₁⎠    2⎛\\pi⎞    ⅈ⋅⎝\\pi  + x₀⋅x₁⎠    ⅈ⋅\\pi⋅(x₀ + x₁)    ⎛\n",
       "ⅈ⋅⎜- 2⋅ℯ                ⋅cos ⎜───⎟ + ℯ                 + ℯ               ⋅cos⎜\n",
       "  ⎝                          ⎝ 4 ⎠                                           ⎝\n",
       "\n",
       "    ⎞                                    \n",
       "\\pi⎞⎟  -ⅈ⋅\\pi⋅(x₀ + x₁)    ⎛\\pi⎞    ⎛\\pi⎞\n",
       "───⎟⎟⋅ℯ                ⋅sin⎜───⎟⋅cos⎜───⎟\n",
       " 2 ⎠⎠                      ⎝ 4 ⎠    ⎝ 4 ⎠"
      ]
     },
     "metadata": {},
     "output_type": "display_data"
    }
   ],
   "source": [
    "# derive expression for <01|psi>\n",
    "\n",
    "raw01 = braket(idx_to_vect(\"01\"), psi).expand(trig=True).expand()\n",
    "\n",
    "braket01 = simplify(raw01, maxn=17, chop=True)\n",
    "temp = braket01\n",
    "for a in preorder_traversal(temp):\n",
    "    if isinstance(a, Float):\n",
    "        braket01 = braket01.subs(a, round(a, 15))\n",
    "\n",
    "display(braket01)"
   ]
  },
  {
   "cell_type": "code",
   "execution_count": 42,
   "id": "9d0499cd",
   "metadata": {},
   "outputs": [
    {
     "data": {
      "text/latex": [
       "$\\displaystyle \\left(\\frac{\\left(\\cos{\\left(\\pi \\right)} + 1\\right) \\left(\\cos{\\left(\\pi^{2} - \\pi x_{0} - \\pi x_{1} + x_{0} x_{1} \\right)} - 1\\right)^{2}}{2} + \\sin^{2}{\\left(\\pi^{2} - \\pi x_{0} - \\pi x_{1} + x_{0} x_{1} \\right)} \\cos^{2}{\\left(\\frac{\\pi}{2} \\right)}\\right) \\sin^{2}{\\left(\\frac{\\pi}{4} \\right)} \\cos^{2}{\\left(\\frac{\\pi}{4} \\right)}$"
      ],
      "text/plain": [
       "⎛                                                        2                    \n",
       "⎜               ⎛   ⎛   2                          ⎞    ⎞                     \n",
       "⎜(cos(\\pi) + 1)⋅⎝cos⎝\\pi  - \\pi⋅x₀ - \\pi⋅x₁ + x₀⋅x₁⎠ - 1⎠       2⎛   2        \n",
       "⎜───────────────────────────────────────────────────────── + sin ⎝\\pi  - \\pi⋅x\n",
       "⎝                            2                                                \n",
       "\n",
       "                             ⎞                    \n",
       "                             ⎟                    \n",
       "                  ⎞    2⎛\\pi⎞⎟    2⎛\\pi⎞    2⎛\\pi⎞\n",
       "₀ - \\pi⋅x₁ + x₀⋅x₁⎠⋅cos ⎜───⎟⎟⋅sin ⎜───⎟⋅cos ⎜───⎟\n",
       "                        ⎝ 2 ⎠⎠     ⎝ 4 ⎠     ⎝ 4 ⎠"
      ]
     },
     "metadata": {},
     "output_type": "display_data"
    }
   ],
   "source": [
    "# calculate P(|01>) = |<01|psi>|\n",
    "\n",
    "p01 = simplify(re(braket01)*re(braket01)+im(braket01)*im(braket01))\n",
    "\n",
    "display(p01)"
   ]
  },
  {
   "cell_type": "code",
   "execution_count": 43,
   "id": "19a10a32",
   "metadata": {},
   "outputs": [
    {
     "data": {
      "text/latex": [
       "$\\displaystyle \\left(\\frac{\\left(\\cos{\\left(\\pi \\right)} + 1\\right) \\left(\\cos{\\left(\\pi^{2} - \\pi x_{0} - \\pi x_{1} + x_{0} x_{1} \\right)} - 1\\right)^{2}}{2} + \\sin^{2}{\\left(\\pi^{2} - \\pi x_{0} - \\pi x_{1} + x_{0} x_{1} \\right)} \\cos^{2}{\\left(\\frac{\\pi}{2} \\right)}\\right) \\sin^{2}{\\left(\\frac{\\pi}{4} \\right)} \\cos^{2}{\\left(\\frac{\\pi}{4} \\right)} + \\frac{\\left(\\cos{\\left(\\pi \\right)} - 1\\right)^{2} \\sin^{2}{\\left(\\pi^{2} - \\pi x_{0} - \\pi x_{1} + x_{0} x_{1} \\right)}}{16} + \\frac{\\left(2 \\cos{\\left(\\pi \\right)} + 2 \\cos{\\left(\\pi^{2} - \\pi x_{0} - \\pi x_{1} + x_{0} x_{1} \\right)} - \\cos{\\left(- \\pi^{2} + \\pi x_{0} + \\pi x_{1} + \\pi - x_{0} x_{1} \\right)} - \\cos{\\left(\\pi^{2} - \\pi x_{0} - \\pi x_{1} + \\pi + x_{0} x_{1} \\right)} + 6\\right)^{2}}{64}$"
      ],
      "text/plain": [
       "⎛                                                        2                    \n",
       "⎜               ⎛   ⎛   2                          ⎞    ⎞                     \n",
       "⎜(cos(\\pi) + 1)⋅⎝cos⎝\\pi  - \\pi⋅x₀ - \\pi⋅x₁ + x₀⋅x₁⎠ - 1⎠       2⎛   2        \n",
       "⎜───────────────────────────────────────────────────────── + sin ⎝\\pi  - \\pi⋅x\n",
       "⎝                            2                                                \n",
       "\n",
       "                             ⎞                                                \n",
       "                             ⎟                                     2    2⎛   2\n",
       "                  ⎞    2⎛\\pi⎞⎟    2⎛\\pi⎞    2⎛\\pi⎞   (cos(\\pi) - 1) ⋅sin ⎝\\pi \n",
       "₀ - \\pi⋅x₁ + x₀⋅x₁⎠⋅cos ⎜───⎟⎟⋅sin ⎜───⎟⋅cos ⎜───⎟ + ─────────────────────────\n",
       "                        ⎝ 2 ⎠⎠     ⎝ 4 ⎠     ⎝ 4 ⎠                            \n",
       "\n",
       "                                                                              \n",
       "                          ⎞   ⎛                  ⎛   2                        \n",
       " - \\pi⋅x₀ - \\pi⋅x₁ + x₀⋅x₁⎠   ⎝2⋅cos(\\pi) + 2⋅cos⎝\\pi  - \\pi⋅x₀ - \\pi⋅x₁ + x₀⋅\n",
       "─────────────────────────── + ────────────────────────────────────────────────\n",
       "16                                                                            \n",
       "\n",
       "                                                                              \n",
       "  ⎞      ⎛     2                                ⎞      ⎛   2                  \n",
       "x₁⎠ - cos⎝- \\pi  + \\pi⋅x₀ + \\pi⋅x₁ + \\pi - x₀⋅x₁⎠ - cos⎝\\pi  - \\pi⋅x₀ - \\pi⋅x₁\n",
       "──────────────────────────────────────────────────────────────────────────────\n",
       "                         64                                                   \n",
       "\n",
       "                    2\n",
       "              ⎞    ⎞ \n",
       " + \\pi + x₀⋅x₁⎠ + 6⎠ \n",
       "─────────────────────\n",
       "                     "
      ]
     },
     "metadata": {},
     "output_type": "display_data"
    }
   ],
   "source": [
    "p0 = simplify(p00+p01)\n",
    "\n",
    "display(p0)"
   ]
  },
  {
   "cell_type": "code",
   "execution_count": 47,
   "id": "e359cf58",
   "metadata": {},
   "outputs": [
    {
     "data": {
      "text/latex": [
       "$\\displaystyle \\sin^{2}{\\left(\\pi x_{0} + \\pi x_{1} - x_{0} x_{1} - 9.86960440108437 \\right)}$"
      ],
      "text/plain": [
       "   2                                            \n",
       "sin (\\pi⋅x₀ + \\pi⋅x₁ - x₀⋅x₁ - 9.86960440108437)"
      ]
     },
     "metadata": {},
     "output_type": "display_data"
    }
   ],
   "source": [
    "pi_val = 3.141592653589\n",
    "expression = sin(pi_val**2-pi*x0-pi*x1+x0*x1)**2\n",
    "res = simplify(expression)\n",
    "\n",
    "display(res)"
   ]
  },
  {
   "cell_type": "code",
   "execution_count": 43,
   "id": "6bf047df",
   "metadata": {},
   "outputs": [],
   "source": [
    "# |psi0> = |0000>\n",
    "psi0 = idx_to_vect(\"0000\")\n",
    "\n",
    "# |psi1> = H*H*I*H |psi0>\n",
    "psi1 = tfv(mtp2([H, H, id(1), H]), psi0)\n",
    "\n",
    "# |psi2> = CNOT[0,1]*I^*2 |psi1>\n",
    "psi2 = tfv(mtp2([cnot(), id(1), id(1)]), psi1)\n",
    "\n",
    "# |psi3> = I*Rz(t0)*I^*2 |psi2>\n",
    "psi3 = tfv(mtp2([id(1), rz(t0), id(1), id(1)]), psi2)\n",
    "\n",
    "# |psi4> = I*H^*2 |psi3>\n",
    "psi4 = tfv(mtp2([id(1), H, id(1), id(1)]), psi3)\n",
    "\n",
    "# |psi5> = I*CNOT[0,2] |psi4>\n",
    "psi5 = tfv(mtp2([id(1), cgate2(x(), 0, 2)]), psi4)\n",
    "\n",
    "# |psi6> = I^*3*Rz(t1) |psi5>\n",
    "psi6 = tfv(mtp2([id(1), id(1), id(1), rz(t1)]), psi5)\n",
    "\n",
    "# |psi7> = I^*2*H^*2 |psi6>\n",
    "psi7 = tfv(mtp2([id(1), id(1), H, H]), psi6)\n",
    "\n",
    "# |psi8> = I^*2*Rz(t2)*I |psi7>\n",
    "psi8 = tfv(mtp2([id(1), id(1), rz(t2), id(1)]), psi7)\n",
    "\n",
    "# |psi9> = I^*2*CNOT[1,0] |psi8>\n",
    "psi9 = tfv(mtp2([id(1), id(1), cgate2(x(), 1, 0)]), psi8)\n",
    "\n",
    "# |psi10> = I^*2*H^*2 |psi9>\n",
    "psi10 = tfv(mtp2([id(1), id(1), H, H]), psi9)"
   ]
  },
  {
   "cell_type": "code",
   "execution_count": null,
   "id": "53d05a4b",
   "metadata": {
    "scrolled": true
   },
   "outputs": [],
   "source": [
    "for e in psi10:\n",
    "    print(\"---\")\n",
    "    display(e)"
   ]
  },
  {
   "cell_type": "code",
   "execution_count": 44,
   "id": "654fec1b",
   "metadata": {},
   "outputs": [
    {
     "data": {
      "text/latex": [
       "$\\displaystyle 0.125 \\left(e^{i \\theta_{0}} + e^{i \\theta_{2}} + e^{i \\left(\\theta_{0} + \\theta_{2}\\right)} + 1\\right) e^{- \\frac{i \\left(\\theta_{0} + \\theta_{1} + \\theta_{2}\\right)}{2}}$"
      ],
      "text/plain": [
       "                                                              -ⅈ⋅(\\theta₀ + \\t\n",
       "                                                              ────────────────\n",
       "      ⎛ ⅈ⋅\\theta₀    ⅈ⋅\\theta₂    ⅈ⋅(\\theta₀ + \\theta₂)    ⎞                  \n",
       "0.125⋅⎝ℯ          + ℯ          + ℯ                      + 1⎠⋅ℯ                \n",
       "\n",
       "heta₁ + \\theta₂) \n",
       "─────────────────\n",
       "2                \n",
       "                 "
      ]
     },
     "metadata": {},
     "output_type": "display_data"
    }
   ],
   "source": [
    "# derive expression for <0000|psi10>\n",
    "\n",
    "raw0000 = braket(idx_to_vect(\"0000\"), psi10).expand(trig=True).expand()\n",
    "\n",
    "braket0000 = simplify(raw0000, maxn=17, chop=True)\n",
    "temp = braket0000\n",
    "for a in preorder_traversal(temp):\n",
    "    if isinstance(a, Float):\n",
    "        braket0000 = braket0000.subs(a, round(a, 15))\n",
    "\n",
    "display(braket0000)"
   ]
  },
  {
   "cell_type": "code",
   "execution_count": 45,
   "id": "26a0add6",
   "metadata": {},
   "outputs": [
    {
     "data": {
      "text/latex": [
       "$\\displaystyle 0.0625 \\cos{\\left(\\theta_{0} \\right)} \\cos{\\left(\\theta_{2} \\right)} + 0.0625 \\cos{\\left(\\theta_{0} \\right)} + 0.0625 \\cos{\\left(\\theta_{2} \\right)} + 0.0625$"
      ],
      "text/plain": [
       "0.0625⋅cos(\\theta₀)⋅cos(\\theta₂) + 0.0625⋅cos(\\theta₀) + 0.0625⋅cos(\\theta₂) +\n",
       " 0.0625"
      ]
     },
     "metadata": {},
     "output_type": "display_data"
    }
   ],
   "source": [
    "# calculate P(|0000>) = |<0000|psi10>|\n",
    "\n",
    "p0000 = simplify(re(braket0000)*re(braket0000)+im(braket0000)*im(braket0000))\n",
    "\n",
    "display(p0000)"
   ]
  },
  {
   "cell_type": "code",
   "execution_count": 52,
   "id": "03e2fc51",
   "metadata": {},
   "outputs": [
    {
     "data": {
      "text/latex": [
       "$\\displaystyle \\left(- 0.125 e^{i \\theta_{0}} + 0.125 e^{i \\theta_{2}} - 0.125 e^{i \\left(\\theta_{0} + \\theta_{2}\\right)} + 0.125\\right) e^{- \\frac{i \\left(\\theta_{0} + \\theta_{1} + \\theta_{2}\\right)}{2}}$"
      ],
      "text/plain": [
       "                                                                              \n",
       "                                                                              \n",
       "⎛         ⅈ⋅\\theta₀          ⅈ⋅\\theta₂          ⅈ⋅(\\theta₀ + \\theta₂)        ⎞\n",
       "⎝- 0.125⋅ℯ          + 0.125⋅ℯ          - 0.125⋅ℯ                      + 0.125⎠\n",
       "\n",
       "  -ⅈ⋅(\\theta₀ + \\theta₁ + \\theta₂) \n",
       "  ─────────────────────────────────\n",
       "                  2                \n",
       "⋅ℯ                                 "
      ]
     },
     "metadata": {},
     "output_type": "display_data"
    }
   ],
   "source": [
    "# derive expression for <0100|psi10>\n",
    "\n",
    "raw0100 = braket(idx_to_vect(\"0100\"), psi10).expand(trig=True).expand()\n",
    "\n",
    "braket0100 = simplify(raw0100, maxn=17, chop=True)\n",
    "temp = braket0100\n",
    "for a in preorder_traversal(temp):\n",
    "    if isinstance(a, Float):\n",
    "        braket0100 = braket0100.subs(a, round(a, 15))\n",
    "\n",
    "display(braket0100)"
   ]
  },
  {
   "cell_type": "code",
   "execution_count": 53,
   "id": "180c5edc",
   "metadata": {},
   "outputs": [
    {
     "data": {
      "text/latex": [
       "$\\displaystyle - 0.0625 \\cos{\\left(\\theta_{0} \\right)} \\cos{\\left(\\theta_{2} \\right)} - 0.0625 \\cos{\\left(\\theta_{0} \\right)} + 0.0625 \\cos{\\left(\\theta_{2} \\right)} + 0.0625$"
      ],
      "text/plain": [
       "-0.0625⋅cos(\\theta₀)⋅cos(\\theta₂) - 0.0625⋅cos(\\theta₀) + 0.0625⋅cos(\\theta₂) \n",
       "+ 0.0625"
      ]
     },
     "metadata": {},
     "output_type": "display_data"
    }
   ],
   "source": [
    "# calculate P(|0100>) = |<0100|psi10>|\n",
    "\n",
    "p0100 = simplify(re(braket0100)*re(braket0100)+im(braket0100)*im(braket0100))\n",
    "\n",
    "display(p0100)"
   ]
  },
  {
   "cell_type": "code",
   "execution_count": 55,
   "id": "c1b4bf32",
   "metadata": {},
   "outputs": [
    {
     "data": {
      "text/latex": [
       "$\\displaystyle 0.5 \\cos{\\left(\\theta_{0} \\right)} + 0.5$"
      ],
      "text/plain": [
       "0.5⋅cos(\\theta₀) + 0.5"
      ]
     },
     "metadata": {},
     "output_type": "display_data"
    }
   ],
   "source": [
    "# calculate P(O=|0>) = P(|0000>)/( P(|0000>)+P(|0100>) )\n",
    "\n",
    "p0 = simplify(p0000/(p0000+p0100))\n",
    "\n",
    "display(p0)"
   ]
  },
  {
   "cell_type": "code",
   "execution_count": null,
   "id": "28e515da",
   "metadata": {},
   "outputs": [],
   "source": []
  }
 ],
 "metadata": {
  "kernelspec": {
   "display_name": "Python 3 (ipykernel)",
   "language": "python",
   "name": "python3"
  },
  "language_info": {
   "codemirror_mode": {
    "name": "ipython",
    "version": 3
   },
   "file_extension": ".py",
   "mimetype": "text/x-python",
   "name": "python",
   "nbconvert_exporter": "python",
   "pygments_lexer": "ipython3",
   "version": "3.11.4"
  }
 },
 "nbformat": 4,
 "nbformat_minor": 5
}
