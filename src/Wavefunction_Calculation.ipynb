{
 "cells": [
  {
   "cell_type": "code",
   "execution_count": 10,
   "id": "ee75f93d",
   "metadata": {},
   "outputs": [],
   "source": [
    "import numpy as np\n",
    "from sympy.simplify.fu import fu, L, TR9, TR10i, TR11\n",
    "from sympy import factor, sin, cos, powsimp, exp\n",
    "from sympy import re, im, I, E, Abs, S, conjugate\n",
    "from sympy import symbols, Function, lambdify, simplify, preorder_traversal, Float, latex, pprint\n",
    "from IPython.display import display\n",
    "\n",
    "def tensor_product(a, b):\n",
    "    if (\"__len__\" not in dir(a)):\n",
    "        return a*b\n",
    "    elif (\"__len__\" not in dir(b)):\n",
    "        return b*a\n",
    "    else:\n",
    "        res = [tensor_product(a[i//len(b)], b[i%len(b)]) for i in range(len(a)*len(b))]\n",
    "        return np.array(res)\n",
    "\n",
    "def transform_vect(M, v):\n",
    "    if (len(M) == len(v) and len(M[0]) == len(v)):\n",
    "        return matmul(M, v)\n",
    "    else:\n",
    "        return v\n",
    "\n",
    "def matmul(a, b):\n",
    "    return np.matmul(a, b)"
   ]
  },
  {
   "cell_type": "code",
   "execution_count": 14,
   "id": "454b9dca",
   "metadata": {},
   "outputs": [],
   "source": [
    "from sympy import init_printing\n",
    "\n",
    "init_printing(use_latex='mathjax')"
   ]
  },
  {
   "cell_type": "code",
   "execution_count": 4,
   "id": "aaccaf52",
   "metadata": {},
   "outputs": [],
   "source": [
    "def diag_ones(dim):\n",
    "    return np.array([[int(j == i) for j in range(dim)] for i in range(dim)], dtype='object')\n",
    "\n",
    "def id(n):\n",
    "    return diag_ones(2**n)\n",
    "\n",
    "def rz(theta):\n",
    "    return np.array([[exp(-I*theta/2), 0], [0, exp(I*theta/2)]])\n",
    "\n",
    "def rx(theta):\n",
    "    return np.array([[cos(theta/2), -I*sin(theta/2)], [-I*sin(theta/2), cos(theta/2)]])\n",
    "\n",
    "def ry(theta):\n",
    "    return np.array([[cos(theta/2), -sin(theta/2)], [sin(theta/2), cos(theta/2)]])\n",
    "\n",
    "def x():\n",
    "    return np.array([[0, 1], [1, 0]])\n",
    "\n",
    "def y():\n",
    "    return np.array([[0, -1j], [1j, 0]])\n",
    "\n",
    "def z():\n",
    "    return np.array([[1, 0], [0, -1]])\n",
    "\n",
    "def cnot(direction=1):\n",
    "    return cgate(x(), direction)\n",
    "\n",
    "def cgate(M, direction=1):\n",
    "    base = diag_ones(2*len(M))\n",
    "\n",
    "    if direction == 1:\n",
    "        k = len(M)\n",
    "    else:\n",
    "        k = 0\n",
    "\n",
    "    for i in range(len(M)):\n",
    "        for j in range(len(M[0])):\n",
    "            base[i+k][j+k] = M[i][j]\n",
    "\n",
    "    return np.array(base)\n",
    "\n",
    "def cgate2(M, c, t, n=None):\n",
    "    if n is None:\n",
    "        n = max(c, t)+1\n",
    "\n",
    "    ket_0 = np.array([1, 0])\n",
    "    ket_1 = np.array([0, 1])\n",
    "\n",
    "    proj0x0 = np.outer(ket_0, dagger(ket_0))\n",
    "    proj1x1 = np.outer(ket_1, dagger(ket_1))\n",
    "\n",
    "    proj0s = [id(1) for _ in range(n)]\n",
    "    proj0s[c] = proj0x0\n",
    "    proj0s[t] = id(1)\n",
    "\n",
    "    proj1s = [id(1) for _ in range(n)]\n",
    "    proj1s[c] = proj1x1\n",
    "    proj1s[t] = M\n",
    "\n",
    "    return np.array(mtp2(proj0s)+mtp2(proj1s))\n",
    "\n",
    "def dagger(M):\n",
    "    return M.transpose()\n",
    "\n",
    "def conjugate(M):\n",
    "    res = [[i for i in row] for row in M]\n",
    "\n",
    "    for i in range(len(M)):\n",
    "        for j in range(len(M)):\n",
    "            if type(res[i][j]) == type(1+1j):\n",
    "                res[i][j] = np.conjugate(res[i][j])\n",
    "            if type(res[i][j] == e):\n",
    "                res[i][j] = e(-res[i][j].args())\n",
    "            elif type(-res[i][j] == e):\n",
    "                res[i][j] = -e((-res[i][j]).args())\n",
    "\n",
    "    return res\n",
    "\n",
    "def idx_to_vect(bit_str):\n",
    "    ket_0 = np.array([1, 0])\n",
    "    ket_1 = np.array([0, 1])\n",
    "\n",
    "    kets = [ket_0 if b == \"0\" else ket_1 for b in bit_str]\n",
    "\n",
    "    return multitensor_product(kets)\n",
    "\n",
    "def braket(sv1, sv2):\n",
    "    sv1_dagger = dagger(sv1)\n",
    "\n",
    "    res = matmul(sv1_dagger, sv2)\n",
    "\n",
    "    return res\n",
    "\n",
    "def multitensor_product(mats):\n",
    "    res = None\n",
    "\n",
    "    for mat in mats:\n",
    "        if res is None:\n",
    "            res = mat\n",
    "        else:\n",
    "            res = tensor_product(res, mat)\n",
    "\n",
    "    return np.array(res)\n",
    "\n",
    "def mtp2(mats):\n",
    "    res = None\n",
    "    tempmat = None\n",
    "\n",
    "    for mat in mats[::-1]:\n",
    "        if res is None:\n",
    "            if tempmat is None:\n",
    "                tempmat = mat\n",
    "            else:\n",
    "                res = tensor_product(mat, tempmat)\n",
    "        else:\n",
    "            res = tensor_product(mat, res)\n",
    "\n",
    "    return res\n",
    "\n",
    "def idx_to_vect2(bit_str):\n",
    "    ket_0 = np.array([1, 0])\n",
    "    ket_1 = np.array([0, 1])\n",
    "\n",
    "    kets = [ket_0 if b == \"0\" else ket_1 for b in bit_str]\n",
    "\n",
    "    return mtp2(kets)\n",
    "\n",
    "def tfv(M, v):\n",
    "    return transform_vect(M, v)\n",
    "\n",
    "ket_0 = np.array([1, 0])\n",
    "ket_1 = np.array([0, 1])\n",
    "H = 1/np.sqrt(2)*np.array([[1, 1], [1, -1]])"
   ]
  },
  {
   "cell_type": "markdown",
   "id": "b832bed8",
   "metadata": {},
   "source": [
    "<!-- ![Sample SimpleSA circuit](../data/misc/sample-simplesa-circuit.png) -->\n",
    "<img src=\"../data/misc/sample-simplesa-circuit.png\" alt=\"Sample SimpleSA circuit\" width=300px align=left>"
   ]
  },
  {
   "cell_type": "code",
   "execution_count": 18,
   "id": "6e3b8a6b",
   "metadata": {},
   "outputs": [],
   "source": [
    "t0 = symbols('\\\\theta_0', real=True)\n",
    "t1 = symbols('\\\\theta_1', real=True)\n",
    "t2 = symbols('\\\\theta_2', real=True)"
   ]
  },
  {
   "cell_type": "code",
   "execution_count": 43,
   "id": "6bf047df",
   "metadata": {},
   "outputs": [],
   "source": [
    "# |psi0> = |0000>\n",
    "psi0 = idx_to_vect(\"0000\")\n",
    "\n",
    "# |psi1> = H*H*I*H |psi0>\n",
    "psi1 = tfv(mtp2([H, H, id(1), H]), psi0)\n",
    "\n",
    "# |psi2> = CNOT[0,1]*I^*2 |psi1>\n",
    "psi2 = tfv(mtp2([cnot(), id(1), id(1)]), psi1)\n",
    "\n",
    "# |psi3> = I*Rz(t0)*I^*2 |psi2>\n",
    "psi3 = tfv(mtp2([id(1), rz(t0), id(1), id(1)]), psi2)\n",
    "\n",
    "# |psi4> = I*H^*2 |psi3>\n",
    "psi4 = tfv(mtp2([id(1), H, id(1), id(1)]), psi3)\n",
    "\n",
    "# |psi5> = I*CNOT[0,2] |psi4>\n",
    "psi5 = tfv(mtp2([id(1), cgate2(x(), 0, 2)]), psi4)\n",
    "\n",
    "# |psi6> = I^*3*Rz(t1) |psi5>\n",
    "psi6 = tfv(mtp2([id(1), id(1), id(1), rz(t1)]), psi5)\n",
    "\n",
    "# |psi7> = I^*2*H^*2 |psi6>\n",
    "psi7 = tfv(mtp2([id(1), id(1), H, H]), psi6)\n",
    "\n",
    "# |psi8> = I^*2*Rz(t2)*I |psi7>\n",
    "psi8 = tfv(mtp2([id(1), id(1), rz(t2), id(1)]), psi7)\n",
    "\n",
    "# |psi9> = I^*2*CNOT[1,0] |psi8>\n",
    "psi9 = tfv(mtp2([id(1), id(1), cgate2(x(), 1, 0)]), psi8)\n",
    "\n",
    "# |psi10> = I^*2*H^*2 |psi9>\n",
    "psi10 = tfv(mtp2([id(1), id(1), H, H]), psi9)"
   ]
  },
  {
   "cell_type": "code",
   "execution_count": null,
   "id": "53d05a4b",
   "metadata": {
    "scrolled": true
   },
   "outputs": [],
   "source": [
    "for e in psi10:\n",
    "    print(\"---\")\n",
    "    display(e)"
   ]
  },
  {
   "cell_type": "code",
   "execution_count": 44,
   "id": "654fec1b",
   "metadata": {},
   "outputs": [
    {
     "data": {
      "text/latex": [
       "$\\displaystyle 0.125 \\left(e^{i \\theta_{0}} + e^{i \\theta_{2}} + e^{i \\left(\\theta_{0} + \\theta_{2}\\right)} + 1\\right) e^{- \\frac{i \\left(\\theta_{0} + \\theta_{1} + \\theta_{2}\\right)}{2}}$"
      ],
      "text/plain": [
       "                                                              -ⅈ⋅(\\theta₀ + \\t\n",
       "                                                              ────────────────\n",
       "      ⎛ ⅈ⋅\\theta₀    ⅈ⋅\\theta₂    ⅈ⋅(\\theta₀ + \\theta₂)    ⎞                  \n",
       "0.125⋅⎝ℯ          + ℯ          + ℯ                      + 1⎠⋅ℯ                \n",
       "\n",
       "heta₁ + \\theta₂) \n",
       "─────────────────\n",
       "2                \n",
       "                 "
      ]
     },
     "metadata": {},
     "output_type": "display_data"
    }
   ],
   "source": [
    "# derive expression for <0000|psi10>\n",
    "\n",
    "raw0000 = braket(idx_to_vect(\"0000\"), psi10).expand(trig=True).expand()\n",
    "\n",
    "braket0000 = simplify(raw0000, maxn=17, chop=True)\n",
    "temp = braket0000\n",
    "for a in preorder_traversal(temp):\n",
    "    if isinstance(a, Float):\n",
    "        braket0000 = braket0000.subs(a, round(a, 15))\n",
    "\n",
    "display(braket0000)"
   ]
  },
  {
   "cell_type": "code",
   "execution_count": 45,
   "id": "26a0add6",
   "metadata": {},
   "outputs": [
    {
     "data": {
      "text/latex": [
       "$\\displaystyle 0.0625 \\cos{\\left(\\theta_{0} \\right)} \\cos{\\left(\\theta_{2} \\right)} + 0.0625 \\cos{\\left(\\theta_{0} \\right)} + 0.0625 \\cos{\\left(\\theta_{2} \\right)} + 0.0625$"
      ],
      "text/plain": [
       "0.0625⋅cos(\\theta₀)⋅cos(\\theta₂) + 0.0625⋅cos(\\theta₀) + 0.0625⋅cos(\\theta₂) +\n",
       " 0.0625"
      ]
     },
     "metadata": {},
     "output_type": "display_data"
    }
   ],
   "source": [
    "# calculate P(|0000>) = |<0000|psi10>|\n",
    "\n",
    "p0000 = simplify(re(braket0000)*re(braket0000)+im(braket0000)*im(braket0000))\n",
    "\n",
    "display(p0000)"
   ]
  },
  {
   "cell_type": "code",
   "execution_count": 52,
   "id": "03e2fc51",
   "metadata": {},
   "outputs": [
    {
     "data": {
      "text/latex": [
       "$\\displaystyle \\left(- 0.125 e^{i \\theta_{0}} + 0.125 e^{i \\theta_{2}} - 0.125 e^{i \\left(\\theta_{0} + \\theta_{2}\\right)} + 0.125\\right) e^{- \\frac{i \\left(\\theta_{0} + \\theta_{1} + \\theta_{2}\\right)}{2}}$"
      ],
      "text/plain": [
       "                                                                              \n",
       "                                                                              \n",
       "⎛         ⅈ⋅\\theta₀          ⅈ⋅\\theta₂          ⅈ⋅(\\theta₀ + \\theta₂)        ⎞\n",
       "⎝- 0.125⋅ℯ          + 0.125⋅ℯ          - 0.125⋅ℯ                      + 0.125⎠\n",
       "\n",
       "  -ⅈ⋅(\\theta₀ + \\theta₁ + \\theta₂) \n",
       "  ─────────────────────────────────\n",
       "                  2                \n",
       "⋅ℯ                                 "
      ]
     },
     "metadata": {},
     "output_type": "display_data"
    }
   ],
   "source": [
    "# derive expression for <0100|psi10>\n",
    "\n",
    "raw0100 = braket(idx_to_vect(\"0100\"), psi10).expand(trig=True).expand()\n",
    "\n",
    "braket0100 = simplify(raw0100, maxn=17, chop=True)\n",
    "temp = braket0100\n",
    "for a in preorder_traversal(temp):\n",
    "    if isinstance(a, Float):\n",
    "        braket0100 = braket0100.subs(a, round(a, 15))\n",
    "\n",
    "display(braket0100)"
   ]
  },
  {
   "cell_type": "code",
   "execution_count": 53,
   "id": "180c5edc",
   "metadata": {},
   "outputs": [
    {
     "data": {
      "text/latex": [
       "$\\displaystyle - 0.0625 \\cos{\\left(\\theta_{0} \\right)} \\cos{\\left(\\theta_{2} \\right)} - 0.0625 \\cos{\\left(\\theta_{0} \\right)} + 0.0625 \\cos{\\left(\\theta_{2} \\right)} + 0.0625$"
      ],
      "text/plain": [
       "-0.0625⋅cos(\\theta₀)⋅cos(\\theta₂) - 0.0625⋅cos(\\theta₀) + 0.0625⋅cos(\\theta₂) \n",
       "+ 0.0625"
      ]
     },
     "metadata": {},
     "output_type": "display_data"
    }
   ],
   "source": [
    "# calculate P(|0100>) = |<0100|psi10>|\n",
    "\n",
    "p0100 = simplify(re(braket0100)*re(braket0100)+im(braket0100)*im(braket0100))\n",
    "\n",
    "display(p0100)"
   ]
  },
  {
   "cell_type": "code",
   "execution_count": 55,
   "id": "c1b4bf32",
   "metadata": {},
   "outputs": [
    {
     "data": {
      "text/latex": [
       "$\\displaystyle 0.5 \\cos{\\left(\\theta_{0} \\right)} + 0.5$"
      ],
      "text/plain": [
       "0.5⋅cos(\\theta₀) + 0.5"
      ]
     },
     "metadata": {},
     "output_type": "display_data"
    }
   ],
   "source": [
    "# calculate P(O=|0>) = P(|0000>)/( P(|0000>)+P(|0100>) )\n",
    "\n",
    "p0 = simplify(p0000/(p0000+p0100))\n",
    "\n",
    "display(p0)"
   ]
  },
  {
   "cell_type": "code",
   "execution_count": null,
   "id": "28e515da",
   "metadata": {},
   "outputs": [],
   "source": []
  }
 ],
 "metadata": {
  "kernelspec": {
   "display_name": "Python 3 (ipykernel)",
   "language": "python",
   "name": "python3"
  },
  "language_info": {
   "codemirror_mode": {
    "name": "ipython",
    "version": 3
   },
   "file_extension": ".py",
   "mimetype": "text/x-python",
   "name": "python",
   "nbconvert_exporter": "python",
   "pygments_lexer": "ipython3",
   "version": "3.11.4"
  }
 },
 "nbformat": 4,
 "nbformat_minor": 5
}
