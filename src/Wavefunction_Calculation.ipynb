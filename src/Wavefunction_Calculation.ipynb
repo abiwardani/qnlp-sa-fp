{
 "cells": [
  {
   "cell_type": "markdown",
   "id": "1778b353",
   "metadata": {},
   "source": [
    "# Lib def"
   ]
  },
  {
   "cell_type": "code",
   "execution_count": 3,
   "id": "ee75f93d",
   "metadata": {},
   "outputs": [],
   "source": [
    "import numpy as np\n",
    "from sympy.simplify.fu import fu, L, TR9, TR10i, TR11\n",
    "from sympy import factor, sin, cos, powsimp, exp\n",
    "from sympy import re, im, I, E, Abs, S, conjugate\n",
    "from sympy import symbols, Function, lambdify, simplify, preorder_traversal, Float, latex, pprint\n",
    "from IPython.display import display\n",
    "from math import pi\n",
    "\n",
    "def tensor_product(a, b):\n",
    "    if (\"__len__\" not in dir(a)):\n",
    "        return a*b\n",
    "    elif (\"__len__\" not in dir(b)):\n",
    "        return b*a\n",
    "    else:\n",
    "        res = [tensor_product(a[i//len(b)], b[i%len(b)]) for i in range(len(a)*len(b))]\n",
    "        return np.array(res)\n",
    "\n",
    "def transform_vect(M, v):\n",
    "    if (len(M) == len(v) and len(M[0]) == len(v)):\n",
    "        return matmul(M, v)\n",
    "    else:\n",
    "        return v\n",
    "\n",
    "def matmul(a, b):\n",
    "    return np.matmul(a, b)"
   ]
  },
  {
   "cell_type": "code",
   "execution_count": 4,
   "id": "454b9dca",
   "metadata": {},
   "outputs": [],
   "source": [
    "from sympy import init_printing\n",
    "\n",
    "init_printing(use_latex='mathjax')"
   ]
  },
  {
   "cell_type": "code",
   "execution_count": 92,
   "id": "aaccaf52",
   "metadata": {},
   "outputs": [],
   "source": [
    "def diag_ones(dim):\n",
    "    return np.array([[int(j == i) for j in range(dim)] for i in range(dim)], dtype='object')\n",
    "\n",
    "def id(n):\n",
    "    return diag_ones(2**n)\n",
    "\n",
    "def rz(theta):\n",
    "    return np.array([[exp(-I*theta/2), 0], [0, exp(I*theta/2)]])\n",
    "\n",
    "def rx(theta):\n",
    "    return np.array([[cos(theta/2), -I*sin(theta/2)], [-I*sin(theta/2), cos(theta/2)]])\n",
    "\n",
    "def ry(theta):\n",
    "    return np.array([[cos(theta/2), -sin(theta/2)], [sin(theta/2), cos(theta/2)]])\n",
    "\n",
    "def p(theta):\n",
    "    return np.array([[1, 0], [0, exp(I*theta/2)]])\n",
    "    \n",
    "def x():\n",
    "    return np.array([[0, 1], [1, 0]])\n",
    "\n",
    "def y():\n",
    "    return np.array([[0, -1j], [1j, 0]])\n",
    "\n",
    "def z():\n",
    "    return np.array([[1, 0], [0, -1]])\n",
    "\n",
    "def cnot(direction=1):\n",
    "    return cgate(x(), direction)\n",
    "\n",
    "def cgate(M, direction=1):\n",
    "    base = diag_ones(2*len(M))\n",
    "\n",
    "    if direction == 1:\n",
    "        k = len(M)\n",
    "    else:\n",
    "        k = 0\n",
    "\n",
    "    for i in range(len(M)):\n",
    "        for j in range(len(M[0])):\n",
    "            base[i+k][j+k] = M[i][j]\n",
    "\n",
    "    return np.array(base)\n",
    "\n",
    "def cgate2(M, c, t, n=None):\n",
    "    if n is None:\n",
    "        n = max(c, t)+1\n",
    "\n",
    "    ket_0 = np.array([1, 0])\n",
    "    ket_1 = np.array([0, 1])\n",
    "\n",
    "    proj0x0 = np.outer(ket_0, dagger(ket_0))\n",
    "    proj1x1 = np.outer(ket_1, dagger(ket_1))\n",
    "\n",
    "    proj0s = [id(1) for _ in range(n)]\n",
    "    proj0s[c] = proj0x0\n",
    "    proj0s[t] = id(1)\n",
    "\n",
    "    proj1s = [id(1) for _ in range(n)]\n",
    "    proj1s[c] = proj1x1\n",
    "    proj1s[t] = M\n",
    "\n",
    "    return np.array(mtp2(proj0s)+mtp2(proj1s))\n",
    "\n",
    "def dagger(M):\n",
    "    return M.transpose()\n",
    "\n",
    "def conjugate(M):\n",
    "    res = [[i for i in row] for row in M]\n",
    "\n",
    "    for i in range(len(M)):\n",
    "        for j in range(len(M)):\n",
    "            if type(res[i][j]) == type(1+1j):\n",
    "                res[i][j] = np.conjugate(res[i][j])\n",
    "            if type(res[i][j] == e):\n",
    "                res[i][j] = e(-res[i][j].args())\n",
    "            elif type(-res[i][j] == e):\n",
    "                res[i][j] = -e((-res[i][j]).args())\n",
    "\n",
    "    return res\n",
    "\n",
    "def idx_to_vect(bit_str):\n",
    "    ket_0 = np.array([1, 0])\n",
    "    ket_1 = np.array([0, 1])\n",
    "\n",
    "    kets = [ket_0 if b == \"0\" else ket_1 for b in bit_str]\n",
    "\n",
    "    return multitensor_product(kets)\n",
    "\n",
    "def braket(sv1, sv2):\n",
    "    sv1_dagger = dagger(sv1)\n",
    "\n",
    "    res = matmul(sv1_dagger, sv2)\n",
    "\n",
    "    return res\n",
    "\n",
    "def multitensor_product(mats):\n",
    "    res = None\n",
    "\n",
    "    for mat in mats:\n",
    "        if res is None:\n",
    "            res = mat\n",
    "        else:\n",
    "            res = tensor_product(res, mat)\n",
    "\n",
    "    return np.array(res)\n",
    "\n",
    "def mtp2(mats):\n",
    "    res = None\n",
    "    tempmat = None\n",
    "\n",
    "    for mat in mats[::-1]:\n",
    "        if res is None:\n",
    "            if tempmat is None:\n",
    "                tempmat = mat\n",
    "            else:\n",
    "                res = tensor_product(mat, tempmat)\n",
    "        else:\n",
    "            res = tensor_product(mat, res)\n",
    "\n",
    "    return res\n",
    "\n",
    "def idx_to_vect2(bit_str):\n",
    "    ket_0 = np.array([1, 0])\n",
    "    ket_1 = np.array([0, 1])\n",
    "\n",
    "    kets = [ket_0 if b == \"0\" else ket_1 for b in bit_str]\n",
    "\n",
    "    return mtp2(kets)\n",
    "\n",
    "def tfv(M, v):\n",
    "    return transform_vect(M, v)\n",
    "\n",
    "ket_0 = np.array([1, 0])\n",
    "ket_1 = np.array([0, 1])\n",
    "H = 1/np.sqrt(2)*np.array([[1, 1], [1, -1]])"
   ]
  },
  {
   "cell_type": "markdown",
   "id": "b832bed8",
   "metadata": {},
   "source": [
    "<!-- ![Sample SimpleSA circuit](../data/misc/sample-simplesa-circuit.png) -->\n",
    "<img src=\"../data/misc/sample-simplesa-circuit.png\" alt=\"Sample SimpleSA circuit\" width=300px align=left>"
   ]
  },
  {
   "cell_type": "markdown",
   "id": "56bb4b40",
   "metadata": {},
   "source": [
    "# Circuit Test"
   ]
  },
  {
   "cell_type": "code",
   "execution_count": 37,
   "id": "dfd596cf",
   "metadata": {},
   "outputs": [],
   "source": [
    "x0 = symbols('x_0', real=True)\n",
    "x1 = symbols('x_1', real=True)\n",
    "x2 = symbols('x_2', real=True)\n",
    "pi = symbols('\\\\pi', real=True)\n",
    "# pi = 3.141592653589"
   ]
  },
  {
   "cell_type": "code",
   "execution_count": 38,
   "id": "1e7a2f17",
   "metadata": {},
   "outputs": [],
   "source": [
    "psi0 = idx_to_vect(\"00\")\n",
    "psi1 = tfv(mtp2([rx(pi/2), rx(pi/2)]), psi0)\n",
    "psi2 = tfv(cgate2(x(), 0, 1), psi1)\n",
    "psi3 = tfv(mtp2([id(1), p(2*(pi-x0)*(pi-x1))]), psi2)\n",
    "psi4 = tfv(cgate2(x(), 0, 1), psi3)\n",
    "psi5 = tfv(mtp2([rx(-pi/2), rx(-pi/2)]), psi4)\n",
    "\n",
    "psi = psi5"
   ]
  },
  {
   "cell_type": "code",
   "execution_count": 39,
   "id": "1bf3c68e",
   "metadata": {},
   "outputs": [
    {
     "data": {
      "text/latex": [
       "$\\displaystyle \\left(\\frac{\\left(1 - \\cos{\\left(\\pi \\right)}\\right) e^{i \\left(\\pi^{2} + x_{0} x_{1}\\right)}}{4} + \\left(\\sin^{4}{\\left(\\frac{\\pi}{4} \\right)} + \\cos^{4}{\\left(\\frac{\\pi}{4} \\right)}\\right) e^{i \\pi \\left(x_{0} + x_{1}\\right)}\\right) e^{- i \\pi \\left(x_{0} + x_{1}\\right)}$"
      ],
      "text/plain": [
       "⎛                  ⎛   2        ⎞                                           ⎞ \n",
       "⎜                ⅈ⋅⎝\\pi  + x₀⋅x₁⎠                                           ⎟ \n",
       "⎜(1 - cos(\\pi))⋅ℯ                   ⎛   4⎛\\pi⎞      4⎛\\pi⎞⎞  ⅈ⋅\\pi⋅(x₀ + x₁)⎟ \n",
       "⎜──────────────────────────────── + ⎜sin ⎜───⎟ + cos ⎜───⎟⎟⋅ℯ               ⎟⋅\n",
       "⎝               4                   ⎝    ⎝ 4 ⎠       ⎝ 4 ⎠⎠                 ⎠ \n",
       "\n",
       "                 \n",
       "                 \n",
       " -ⅈ⋅\\pi⋅(x₀ + x₁)\n",
       "ℯ                \n",
       "                 "
      ]
     },
     "metadata": {},
     "output_type": "display_data"
    }
   ],
   "source": [
    "# derive expression for <00|psi>\n",
    "\n",
    "raw00 = braket(idx_to_vect(\"00\"), psi).expand(trig=True).expand()\n",
    "\n",
    "braket00 = simplify(raw00, maxn=17, chop=True)\n",
    "temp = braket00\n",
    "for a in preorder_traversal(temp):\n",
    "    if isinstance(a, Float):\n",
    "        braket00 = braket00.subs(a, round(a, 15))\n",
    "\n",
    "display(braket00)"
   ]
  },
  {
   "cell_type": "code",
   "execution_count": 40,
   "id": "cef85109",
   "metadata": {},
   "outputs": [
    {
     "data": {
      "text/latex": [
       "$\\displaystyle \\frac{\\left(1 - \\cos{\\left(\\pi \\right)}\\right)^{2} \\sin^{2}{\\left(\\pi^{2} - \\pi x_{0} - \\pi x_{1} + x_{0} x_{1} \\right)}}{16} + \\frac{\\left(- \\cos{\\left(\\pi \\right)} - \\cos{\\left(\\pi^{2} - \\pi x_{0} - \\pi x_{1} + x_{0} x_{1} \\right)} + \\frac{\\cos{\\left(- \\pi^{2} + \\pi x_{0} + \\pi x_{1} + \\pi - x_{0} x_{1} \\right)}}{2} + \\frac{\\cos{\\left(\\pi^{2} - \\pi x_{0} - \\pi x_{1} + \\pi + x_{0} x_{1} \\right)}}{2} - 3\\right)^{2}}{16}$"
      ],
      "text/plain": [
       "                                                                              \n",
       "                                                       ⎛                      \n",
       "                                                       ⎜               ⎛   2  \n",
       "              2    2⎛   2                          ⎞   ⎜-cos(\\pi) - cos⎝\\pi  -\n",
       "(1 - cos(\\pi)) ⋅sin ⎝\\pi  - \\pi⋅x₀ - \\pi⋅x₁ + x₀⋅x₁⎠   ⎝                      \n",
       "──────────────────────────────────────────────────── + ───────────────────────\n",
       "                         16                                                   \n",
       "\n",
       "                                                                              \n",
       "                               ⎛     2                                ⎞      ⎛\n",
       "                        ⎞   cos⎝- \\pi  + \\pi⋅x₀ + \\pi⋅x₁ + \\pi - x₀⋅x₁⎠   cos⎝\n",
       " \\pi⋅x₀ - \\pi⋅x₁ + x₀⋅x₁⎠ + ─────────────────────────────────────────── + ────\n",
       "                                                 2                            \n",
       "──────────────────────────────────────────────────────────────────────────────\n",
       "                                                16                            \n",
       "\n",
       "                                          2\n",
       "   2                                ⎞    ⎞ \n",
       "\\pi  - \\pi⋅x₀ - \\pi⋅x₁ + \\pi + x₀⋅x₁⎠    ⎟ \n",
       "───────────────────────────────────── - 3⎟ \n",
       "                2                        ⎠ \n",
       "───────────────────────────────────────────\n",
       "                                           "
      ]
     },
     "metadata": {},
     "output_type": "display_data"
    }
   ],
   "source": [
    "# calculate P(|00>) = |<00|psi>|\n",
    "\n",
    "p00 = simplify(re(braket00)*re(braket00)+im(braket00)*im(braket00))\n",
    "\n",
    "display(p00)"
   ]
  },
  {
   "cell_type": "code",
   "execution_count": 41,
   "id": "c13411c5",
   "metadata": {},
   "outputs": [
    {
     "data": {
      "text/latex": [
       "$\\displaystyle i \\left(- 2 e^{i \\left(\\pi^{2} + x_{0} x_{1}\\right)} \\cos^{2}{\\left(\\frac{\\pi}{4} \\right)} + e^{i \\left(\\pi^{2} + x_{0} x_{1}\\right)} + e^{i \\pi \\left(x_{0} + x_{1}\\right)} \\cos{\\left(\\frac{\\pi}{2} \\right)}\\right) e^{- i \\pi \\left(x_{0} + x_{1}\\right)} \\sin{\\left(\\frac{\\pi}{4} \\right)} \\cos{\\left(\\frac{\\pi}{4} \\right)}$"
      ],
      "text/plain": [
       "  ⎛       ⎛   2        ⎞                ⎛   2        ⎞                        \n",
       "  ⎜     ⅈ⋅⎝\\pi  + x₀⋅x₁⎠    2⎛\\pi⎞    ⅈ⋅⎝\\pi  + x₀⋅x₁⎠    ⅈ⋅\\pi⋅(x₀ + x₁)    ⎛\n",
       "ⅈ⋅⎜- 2⋅ℯ                ⋅cos ⎜───⎟ + ℯ                 + ℯ               ⋅cos⎜\n",
       "  ⎝                          ⎝ 4 ⎠                                           ⎝\n",
       "\n",
       "    ⎞                                    \n",
       "\\pi⎞⎟  -ⅈ⋅\\pi⋅(x₀ + x₁)    ⎛\\pi⎞    ⎛\\pi⎞\n",
       "───⎟⎟⋅ℯ                ⋅sin⎜───⎟⋅cos⎜───⎟\n",
       " 2 ⎠⎠                      ⎝ 4 ⎠    ⎝ 4 ⎠"
      ]
     },
     "metadata": {},
     "output_type": "display_data"
    }
   ],
   "source": [
    "# derive expression for <01|psi>\n",
    "\n",
    "raw01 = braket(idx_to_vect(\"01\"), psi).expand(trig=True).expand()\n",
    "\n",
    "braket01 = simplify(raw01, maxn=17, chop=True)\n",
    "temp = braket01\n",
    "for a in preorder_traversal(temp):\n",
    "    if isinstance(a, Float):\n",
    "        braket01 = braket01.subs(a, round(a, 15))\n",
    "\n",
    "display(braket01)"
   ]
  },
  {
   "cell_type": "code",
   "execution_count": 42,
   "id": "9d0499cd",
   "metadata": {},
   "outputs": [
    {
     "data": {
      "text/latex": [
       "$\\displaystyle \\left(\\frac{\\left(\\cos{\\left(\\pi \\right)} + 1\\right) \\left(\\cos{\\left(\\pi^{2} - \\pi x_{0} - \\pi x_{1} + x_{0} x_{1} \\right)} - 1\\right)^{2}}{2} + \\sin^{2}{\\left(\\pi^{2} - \\pi x_{0} - \\pi x_{1} + x_{0} x_{1} \\right)} \\cos^{2}{\\left(\\frac{\\pi}{2} \\right)}\\right) \\sin^{2}{\\left(\\frac{\\pi}{4} \\right)} \\cos^{2}{\\left(\\frac{\\pi}{4} \\right)}$"
      ],
      "text/plain": [
       "⎛                                                        2                    \n",
       "⎜               ⎛   ⎛   2                          ⎞    ⎞                     \n",
       "⎜(cos(\\pi) + 1)⋅⎝cos⎝\\pi  - \\pi⋅x₀ - \\pi⋅x₁ + x₀⋅x₁⎠ - 1⎠       2⎛   2        \n",
       "⎜───────────────────────────────────────────────────────── + sin ⎝\\pi  - \\pi⋅x\n",
       "⎝                            2                                                \n",
       "\n",
       "                             ⎞                    \n",
       "                             ⎟                    \n",
       "                  ⎞    2⎛\\pi⎞⎟    2⎛\\pi⎞    2⎛\\pi⎞\n",
       "₀ - \\pi⋅x₁ + x₀⋅x₁⎠⋅cos ⎜───⎟⎟⋅sin ⎜───⎟⋅cos ⎜───⎟\n",
       "                        ⎝ 2 ⎠⎠     ⎝ 4 ⎠     ⎝ 4 ⎠"
      ]
     },
     "metadata": {},
     "output_type": "display_data"
    }
   ],
   "source": [
    "# calculate P(|01>) = |<01|psi>|\n",
    "\n",
    "p01 = simplify(re(braket01)*re(braket01)+im(braket01)*im(braket01))\n",
    "\n",
    "display(p01)"
   ]
  },
  {
   "cell_type": "code",
   "execution_count": 43,
   "id": "19a10a32",
   "metadata": {},
   "outputs": [
    {
     "data": {
      "text/latex": [
       "$\\displaystyle \\left(\\frac{\\left(\\cos{\\left(\\pi \\right)} + 1\\right) \\left(\\cos{\\left(\\pi^{2} - \\pi x_{0} - \\pi x_{1} + x_{0} x_{1} \\right)} - 1\\right)^{2}}{2} + \\sin^{2}{\\left(\\pi^{2} - \\pi x_{0} - \\pi x_{1} + x_{0} x_{1} \\right)} \\cos^{2}{\\left(\\frac{\\pi}{2} \\right)}\\right) \\sin^{2}{\\left(\\frac{\\pi}{4} \\right)} \\cos^{2}{\\left(\\frac{\\pi}{4} \\right)} + \\frac{\\left(\\cos{\\left(\\pi \\right)} - 1\\right)^{2} \\sin^{2}{\\left(\\pi^{2} - \\pi x_{0} - \\pi x_{1} + x_{0} x_{1} \\right)}}{16} + \\frac{\\left(2 \\cos{\\left(\\pi \\right)} + 2 \\cos{\\left(\\pi^{2} - \\pi x_{0} - \\pi x_{1} + x_{0} x_{1} \\right)} - \\cos{\\left(- \\pi^{2} + \\pi x_{0} + \\pi x_{1} + \\pi - x_{0} x_{1} \\right)} - \\cos{\\left(\\pi^{2} - \\pi x_{0} - \\pi x_{1} + \\pi + x_{0} x_{1} \\right)} + 6\\right)^{2}}{64}$"
      ],
      "text/plain": [
       "⎛                                                        2                    \n",
       "⎜               ⎛   ⎛   2                          ⎞    ⎞                     \n",
       "⎜(cos(\\pi) + 1)⋅⎝cos⎝\\pi  - \\pi⋅x₀ - \\pi⋅x₁ + x₀⋅x₁⎠ - 1⎠       2⎛   2        \n",
       "⎜───────────────────────────────────────────────────────── + sin ⎝\\pi  - \\pi⋅x\n",
       "⎝                            2                                                \n",
       "\n",
       "                             ⎞                                                \n",
       "                             ⎟                                     2    2⎛   2\n",
       "                  ⎞    2⎛\\pi⎞⎟    2⎛\\pi⎞    2⎛\\pi⎞   (cos(\\pi) - 1) ⋅sin ⎝\\pi \n",
       "₀ - \\pi⋅x₁ + x₀⋅x₁⎠⋅cos ⎜───⎟⎟⋅sin ⎜───⎟⋅cos ⎜───⎟ + ─────────────────────────\n",
       "                        ⎝ 2 ⎠⎠     ⎝ 4 ⎠     ⎝ 4 ⎠                            \n",
       "\n",
       "                                                                              \n",
       "                          ⎞   ⎛                  ⎛   2                        \n",
       " - \\pi⋅x₀ - \\pi⋅x₁ + x₀⋅x₁⎠   ⎝2⋅cos(\\pi) + 2⋅cos⎝\\pi  - \\pi⋅x₀ - \\pi⋅x₁ + x₀⋅\n",
       "─────────────────────────── + ────────────────────────────────────────────────\n",
       "16                                                                            \n",
       "\n",
       "                                                                              \n",
       "  ⎞      ⎛     2                                ⎞      ⎛   2                  \n",
       "x₁⎠ - cos⎝- \\pi  + \\pi⋅x₀ + \\pi⋅x₁ + \\pi - x₀⋅x₁⎠ - cos⎝\\pi  - \\pi⋅x₀ - \\pi⋅x₁\n",
       "──────────────────────────────────────────────────────────────────────────────\n",
       "                         64                                                   \n",
       "\n",
       "                    2\n",
       "              ⎞    ⎞ \n",
       " + \\pi + x₀⋅x₁⎠ + 6⎠ \n",
       "─────────────────────\n",
       "                     "
      ]
     },
     "metadata": {},
     "output_type": "display_data"
    }
   ],
   "source": [
    "p0 = simplify(p00+p01)\n",
    "\n",
    "display(p0)"
   ]
  },
  {
   "cell_type": "code",
   "execution_count": 47,
   "id": "e359cf58",
   "metadata": {},
   "outputs": [
    {
     "data": {
      "text/latex": [
       "$\\displaystyle \\sin^{2}{\\left(\\pi x_{0} + \\pi x_{1} - x_{0} x_{1} - 9.86960440108437 \\right)}$"
      ],
      "text/plain": [
       "   2                                            \n",
       "sin (\\pi⋅x₀ + \\pi⋅x₁ - x₀⋅x₁ - 9.86960440108437)"
      ]
     },
     "metadata": {},
     "output_type": "display_data"
    }
   ],
   "source": [
    "pi_val = 3.141592653589\n",
    "expression = sin(pi_val**2-pi*x0-pi*x1+x0*x1)**2\n",
    "res = simplify(expression)\n",
    "\n",
    "display(res)"
   ]
  },
  {
   "cell_type": "markdown",
   "id": "37c41456",
   "metadata": {},
   "source": [
    "# SVAO"
   ]
  },
  {
   "cell_type": "code",
   "execution_count": 45,
   "id": "8f4d1128",
   "metadata": {},
   "outputs": [],
   "source": [
    "t0 = symbols('\\\\theta_0', real=True)\n",
    "t1 = symbols('\\\\theta_1', real=True)\n",
    "t2 = symbols('\\\\theta_2', real=True)\n",
    "t3 = symbols('\\\\theta_3', real=True)\n",
    "t4 = symbols('\\\\theta_4', real=True)\n",
    "pi = symbols('\\\\pi', real=True)"
   ]
  },
  {
   "cell_type": "code",
   "execution_count": 46,
   "id": "902c730a",
   "metadata": {},
   "outputs": [],
   "source": [
    "# |psi0> = |0000>\n",
    "psi0 = idx_to_vect(\"0000\")\n",
    "\n",
    "# |psi1> = Rx(t0)*Rx(t1)*I*Rx(t2) |psi0>\n",
    "psi1 = tfv(mtp2([rx(t0), rx(t1), id(1), rx(t2)]), psi0)\n",
    "\n",
    "# |psi2> = CNOT[0, 3] |psi1>\n",
    "psi2 = tfv(cgate2(x(), 0, 3), psi1)\n",
    "\n",
    "# |psi3> = CNOT[3, 1] |psi2>\n",
    "psi3 = tfv(cgate2(x(), 3, 1), psi2)\n",
    "\n",
    "# |psi4> = CNOT[1, 0]*I^2 |psi3>\n",
    "psi4 = tfv(mtp2([cgate2(x(), 1, 0), id(1), id(1)]), psi3)\n",
    "\n",
    "# |psi5> = Rx(t0)*Rx(t1)*I*Rx(t2) |psi4>\n",
    "psi5 = tfv(mtp2([rx(t0), rx(t1), id(1), rx(t2)]), psi4)\n",
    "\n",
    "# |psi6> = CNOT[0, 1]*I^2 |psi5>\n",
    "psi6 = tfv(mtp2([cgate2(x(), 0, 1), id(1), id(1)]), psi5)\n",
    "\n",
    "# |psi7> = CNOT[1, 3] |psi6>\n",
    "psi7 = tfv(cgate2(x(), 1, 3), psi6)\n",
    "\n",
    "# |psi8> = CNOT[3, 0] |psi7>\n",
    "psi8 = tfv(cgate2(x(), 3, 0), psi7)\n",
    "\n",
    "# |psi9> = CNOT[2, 3] |psi8>\n",
    "psi9 = tfv(cgate2(x(), 2, 3), psi8)\n",
    "\n",
    "# |psi10> = CNOT[3, 2] |psi9>\n",
    "psi10 = tfv(cgate2(x(), 3, 2), psi9)\n",
    "\n",
    "# |psi11> = I^2*Rx(t4)*Rx(t3) |psi10>\n",
    "psi11 = tfv(mtp2([id(1), id(1), rx(t4), rx(t3)]), psi10)\n",
    "\n",
    "# |psi12> = CNOT[2, 3] |psi11>\n",
    "psi12 = tfv(cgate2(x(), 2, 3), psi11)\n",
    "\n",
    "# |psi13> = CNOT[3, 2] |psi12>\n",
    "psi13 = tfv(cgate2(x(), 3, 2), psi12)\n",
    "\n",
    "# |psi14> = I^2*Rx(t4)*Rx(t3) |psi13>\n",
    "psi14 = tfv(mtp2([id(1), id(1), rx(t4), rx(t3)]), psi13)"
   ]
  },
  {
   "cell_type": "code",
   "execution_count": 47,
   "id": "53d05a4b",
   "metadata": {
    "scrolled": true
   },
   "outputs": [],
   "source": [
    "# for e in psi14:\n",
    "#     print(\"---\")\n",
    "#     display(e)"
   ]
  },
  {
   "cell_type": "code",
   "execution_count": 48,
   "id": "654fec1b",
   "metadata": {},
   "outputs": [],
   "source": [
    "# # derive expression for <0000|psi10>\n",
    "\n",
    "# raw0000 = braket(idx_to_vect(\"0000\"), psi14).expand(trig=True).expand()\n",
    "\n",
    "# braket0000 = simplify(raw0000, maxn=17, chop=True)\n",
    "# temp = braket0000\n",
    "# for a in preorder_traversal(temp):\n",
    "#     if isinstance(a, Float):\n",
    "#         braket0000 = braket0000.subs(a, round(a, 15))\n",
    "\n",
    "# display(braket0000)"
   ]
  },
  {
   "cell_type": "code",
   "execution_count": 49,
   "id": "26a0add6",
   "metadata": {},
   "outputs": [],
   "source": [
    "# # calculate P(|0000>) = |<0000|psi10>|\n",
    "\n",
    "# p0000 = simplify(re(braket0000)*re(braket0000)+im(braket0000)*im(braket0000))\n",
    "\n",
    "# display(p0000)"
   ]
  },
  {
   "cell_type": "code",
   "execution_count": 114,
   "id": "a3bae03d",
   "metadata": {},
   "outputs": [
    {
     "data": {
      "text/latex": [
       "$\\displaystyle \\frac{\\left(- \\sin{\\left(\\theta_{1} \\right)} - \\sin{\\left(\\theta_{2} \\right)} - \\sin{\\left(\\theta_{4} \\right)} - \\sin{\\left(\\theta_{0} + \\theta_{3} \\right)} + \\sin{\\left(\\theta_{1} - \\theta_{2} \\right)} - \\sin{\\left(\\theta_{1} + \\theta_{4} \\right)} - \\sin{\\left(\\theta_{2} + \\theta_{4} \\right)} - \\sin{\\left(- \\theta_{0} + \\theta_{1} + \\theta_{3} \\right)} + \\sin{\\left(- \\theta_{0} + \\theta_{3} + \\theta_{4} \\right)} - \\sin{\\left(\\theta_{0} - \\theta_{2} + \\theta_{3} \\right)} - \\sin{\\left(- \\theta_{1} + \\theta_{2} + \\theta_{4} \\right)} + \\sin{\\left(- \\theta_{0} + \\theta_{2} + \\theta_{3} + \\theta_{4} \\right)} + \\sin{\\left(\\theta_{0} - \\theta_{1} + \\theta_{3} + \\theta_{4} \\right)} + \\sin{\\left(\\theta_{0} + \\theta_{1} + \\theta_{2} - \\theta_{3} \\right)} + \\sin{\\left(\\theta_{0} + \\theta_{1} + \\theta_{2} + \\theta_{3} + \\theta_{4} \\right)}\\right)^{2}}{256} + \\frac{\\left(\\cos{\\left(\\theta_{1} \\right)} + \\cos{\\left(\\theta_{2} \\right)} + \\cos{\\left(\\theta_{4} \\right)} + \\cos{\\left(\\theta_{0} + \\theta_{3} \\right)} + \\cos{\\left(\\theta_{1} - \\theta_{2} \\right)} + \\cos{\\left(\\theta_{1} + \\theta_{4} \\right)} + \\cos{\\left(\\theta_{2} + \\theta_{4} \\right)} + \\cos{\\left(- \\theta_{0} + \\theta_{1} + \\theta_{3} \\right)} + \\cos{\\left(- \\theta_{0} + \\theta_{3} + \\theta_{4} \\right)} + \\cos{\\left(\\theta_{0} - \\theta_{2} + \\theta_{3} \\right)} + \\cos{\\left(- \\theta_{1} + \\theta_{2} + \\theta_{4} \\right)} + \\cos{\\left(- \\theta_{0} + \\theta_{2} + \\theta_{3} + \\theta_{4} \\right)} + \\cos{\\left(\\theta_{0} - \\theta_{1} + \\theta_{3} + \\theta_{4} \\right)} + \\cos{\\left(\\theta_{0} + \\theta_{1} + \\theta_{2} - \\theta_{3} \\right)} + \\cos{\\left(\\theta_{0} + \\theta_{1} + \\theta_{2} + \\theta_{3} + \\theta_{4} \\right)} + 1\\right)^{2}}{256}$"
      ],
      "text/plain": [
       "                                                                              \n",
       "(-sin(\\theta₁) - sin(\\theta₂) - sin(\\theta₄) - sin(\\theta₀ + \\theta₃) + sin(\\t\n",
       "──────────────────────────────────────────────────────────────────────────────\n",
       "                                                                              \n",
       "\n",
       "                                                                              \n",
       "heta₁ - \\theta₂) - sin(\\theta₁ + \\theta₄) - sin(\\theta₂ + \\theta₄) - sin(-\\the\n",
       "──────────────────────────────────────────────────────────────────────────────\n",
       "                                                                              \n",
       "\n",
       "                                                                              \n",
       "ta₀ + \\theta₁ + \\theta₃) + sin(-\\theta₀ + \\theta₃ + \\theta₄) - sin(\\theta₀ - \\\n",
       "──────────────────────────────────────────────────────────────────────────────\n",
       "                                                                              \n",
       "\n",
       "                                                                              \n",
       "theta₂ + \\theta₃) - sin(-\\theta₁ + \\theta₂ + \\theta₄) + sin(-\\theta₀ + \\theta₂\n",
       "──────────────────────────────────────────────────────────────────────────────\n",
       "    256                                                                       \n",
       "\n",
       "                                                                              \n",
       " + \\theta₃ + \\theta₄) + sin(\\theta₀ - \\theta₁ + \\theta₃ + \\theta₄) + sin(\\thet\n",
       "──────────────────────────────────────────────────────────────────────────────\n",
       "                                                                              \n",
       "\n",
       "                                                                              \n",
       "a₀ + \\theta₁ + \\theta₂ - \\theta₃) + sin(\\theta₀ + \\theta₁ + \\theta₂ + \\theta₃ \n",
       "──────────────────────────────────────────────────────────────────────────────\n",
       "                                                                              \n",
       "\n",
       "           2                                                                  \n",
       "+ \\theta₄))    (cos(\\theta₁) + cos(\\theta₂) + cos(\\theta₄) + cos(\\theta₀ + \\th\n",
       "──────────── + ───────────────────────────────────────────────────────────────\n",
       "                                                                              \n",
       "\n",
       "                                                                              \n",
       "eta₃) + cos(\\theta₁ - \\theta₂) + cos(\\theta₁ + \\theta₄) + cos(\\theta₂ + \\theta\n",
       "──────────────────────────────────────────────────────────────────────────────\n",
       "                                                                              \n",
       "\n",
       "                                                                              \n",
       "₄) + cos(-\\theta₀ + \\theta₁ + \\theta₃) + cos(-\\theta₀ + \\theta₃ + \\theta₄) + c\n",
       "──────────────────────────────────────────────────────────────────────────────\n",
       "                                                                              \n",
       "\n",
       "                                                                              \n",
       "os(\\theta₀ - \\theta₂ + \\theta₃) + cos(-\\theta₁ + \\theta₂ + \\theta₄) + cos(-\\th\n",
       "──────────────────────────────────────────────────────────────────────────────\n",
       "                     256                                                      \n",
       "\n",
       "                                                                              \n",
       "eta₀ + \\theta₂ + \\theta₃ + \\theta₄) + cos(\\theta₀ - \\theta₁ + \\theta₃ + \\theta\n",
       "──────────────────────────────────────────────────────────────────────────────\n",
       "                                                                              \n",
       "\n",
       "                                                                              \n",
       "₄) + cos(\\theta₀ + \\theta₁ + \\theta₂ - \\theta₃) + cos(\\theta₀ + \\theta₁ + \\the\n",
       "──────────────────────────────────────────────────────────────────────────────\n",
       "                                                                              \n",
       "\n",
       "                             2\n",
       "ta₂ + \\theta₃ + \\theta₄) + 1) \n",
       "──────────────────────────────\n",
       "                              "
      ]
     },
     "metadata": {},
     "output_type": "display_data"
    }
   ],
   "source": [
    "p0000 = ((-sin(t1)-sin(t2)-sin(t4)-sin(t0+t3)+sin(t1-t2)-sin(t1+t4)-sin(t2+t4)-sin(-t0+t1+t3)+sin(-t0+t3+t4)-sin(t0-t2+t3)-sin(-t1+t2+t4)+sin(-t0+t2+t3+t4)+sin(t0-t1+t3+t4)+sin(t0+t1+t2-t3)+sin(t0+t1+t2+t3+t4))**2)/256+((+cos(t1)+cos(t2)+cos(t4)+cos(t0+t3)+cos(t1-t2)+cos(t1+t4)+cos(t2+t4)+cos(-t0+t1+t3)+cos(-t0+t3+t4)+cos(t0-t2+t3)+cos(-t1+t2+t4)+cos(-t0+t2+t3+t4)+cos(t0-t1+t3+t4)+cos(t0+t1+t2-t3)+cos(t0+t1+t2+t3+t4)+1)**2)/256\n",
    "\n",
    "display(p0000)"
   ]
  },
  {
   "cell_type": "code",
   "execution_count": 51,
   "id": "03e2fc51",
   "metadata": {},
   "outputs": [],
   "source": [
    "# # derive expression for <0100|psi10>\n",
    "\n",
    "# raw0100 = braket(idx_to_vect(\"0100\"), psi14).expand(trig=True).expand()\n",
    "\n",
    "# braket0100 = simplify(raw0100, maxn=17, chop=True)\n",
    "# temp = braket0100\n",
    "# for a in preorder_traversal(temp):\n",
    "#     if isinstance(a, Float):\n",
    "#         braket0100 = braket0100.subs(a, round(a, 15))\n",
    "\n",
    "# display(braket0100)"
   ]
  },
  {
   "cell_type": "code",
   "execution_count": 52,
   "id": "180c5edc",
   "metadata": {},
   "outputs": [],
   "source": [
    "# # calculate P(|0100>) = |<0100|psi10>|\n",
    "\n",
    "# p0100 = simplify(re(braket0100)*re(braket0100)+im(braket0100)*im(braket0100))\n",
    "\n",
    "# display(p0100)"
   ]
  },
  {
   "cell_type": "code",
   "execution_count": 53,
   "id": "6b306ca7",
   "metadata": {},
   "outputs": [
    {
     "data": {
      "text/latex": [
       "$\\displaystyle \\frac{\\left(\\sin{\\left(\\theta_{1} \\right)} - \\sin{\\left(\\theta_{2} \\right)} - \\sin{\\left(\\theta_{4} \\right)} + \\sin{\\left(\\theta_{0} + \\theta_{3} \\right)} - \\sin{\\left(\\theta_{1} - \\theta_{2} \\right)} + \\sin{\\left(\\theta_{1} + \\theta_{4} \\right)} - \\sin{\\left(\\theta_{2} + \\theta_{4} \\right)} - \\sin{\\left(- \\theta_{0} + \\theta_{1} + \\theta_{3} \\right)} - \\sin{\\left(- \\theta_{0} + \\theta_{3} + \\theta_{4} \\right)} + \\sin{\\left(\\theta_{0} - \\theta_{2} + \\theta_{3} \\right)} + \\sin{\\left(- \\theta_{1} + \\theta_{2} + \\theta_{4} \\right)} - \\sin{\\left(- \\theta_{0} + \\theta_{2} + \\theta_{3} + \\theta_{4} \\right)} + \\sin{\\left(\\theta_{0} - \\theta_{1} + \\theta_{3} + \\theta_{4} \\right)} + \\sin{\\left(\\theta_{0} + \\theta_{1} + \\theta_{2} - \\theta_{3} \\right)} + \\sin{\\left(\\theta_{0} + \\theta_{1} + \\theta_{2} + \\theta_{3} + \\theta_{4} \\right)}\\right)^{2}}{256} + \\frac{\\left(- \\cos{\\left(\\theta_{1} \\right)} + \\cos{\\left(\\theta_{2} \\right)} + \\cos{\\left(\\theta_{4} \\right)} - \\cos{\\left(\\theta_{0} + \\theta_{3} \\right)} - \\cos{\\left(\\theta_{1} - \\theta_{2} \\right)} - \\cos{\\left(\\theta_{1} + \\theta_{4} \\right)} + \\cos{\\left(\\theta_{2} + \\theta_{4} \\right)} + \\cos{\\left(- \\theta_{0} + \\theta_{1} + \\theta_{3} \\right)} - \\cos{\\left(- \\theta_{0} + \\theta_{3} + \\theta_{4} \\right)} - \\cos{\\left(\\theta_{0} - \\theta_{2} + \\theta_{3} \\right)} - \\cos{\\left(- \\theta_{1} + \\theta_{2} + \\theta_{4} \\right)} - \\cos{\\left(- \\theta_{0} + \\theta_{2} + \\theta_{3} + \\theta_{4} \\right)} + \\cos{\\left(\\theta_{0} - \\theta_{1} + \\theta_{3} + \\theta_{4} \\right)} + \\cos{\\left(\\theta_{0} + \\theta_{1} + \\theta_{2} - \\theta_{3} \\right)} + \\cos{\\left(\\theta_{0} + \\theta_{1} + \\theta_{2} + \\theta_{3} + \\theta_{4} \\right)} + 1\\right)^{2}}{256}$"
      ],
      "text/plain": [
       "                                                                              \n",
       "(sin(\\theta₁) - sin(\\theta₂) - sin(\\theta₄) + sin(\\theta₀ + \\theta₃) - sin(\\th\n",
       "──────────────────────────────────────────────────────────────────────────────\n",
       "                                                                              \n",
       "\n",
       "                                                                              \n",
       "eta₁ - \\theta₂) + sin(\\theta₁ + \\theta₄) - sin(\\theta₂ + \\theta₄) - sin(-\\thet\n",
       "──────────────────────────────────────────────────────────────────────────────\n",
       "                                                                              \n",
       "\n",
       "                                                                              \n",
       "a₀ + \\theta₁ + \\theta₃) - sin(-\\theta₀ + \\theta₃ + \\theta₄) + sin(\\theta₀ - \\t\n",
       "──────────────────────────────────────────────────────────────────────────────\n",
       "                                                                              \n",
       "\n",
       "                                                                              \n",
       "heta₂ + \\theta₃) + sin(-\\theta₁ + \\theta₂ + \\theta₄) - sin(-\\theta₀ + \\theta₂ \n",
       "──────────────────────────────────────────────────────────────────────────────\n",
       "    256                                                                       \n",
       "\n",
       "                                                                              \n",
       "+ \\theta₃ + \\theta₄) + sin(\\theta₀ - \\theta₁ + \\theta₃ + \\theta₄) + sin(\\theta\n",
       "──────────────────────────────────────────────────────────────────────────────\n",
       "                                                                              \n",
       "\n",
       "                                                                              \n",
       "₀ + \\theta₁ + \\theta₂ - \\theta₃) + sin(\\theta₀ + \\theta₁ + \\theta₂ + \\theta₃ +\n",
       "──────────────────────────────────────────────────────────────────────────────\n",
       "                                                                              \n",
       "\n",
       "          2                                                                   \n",
       " \\theta₄))    (-cos(\\theta₁) + cos(\\theta₂) + cos(\\theta₄) - cos(\\theta₀ + \\th\n",
       "─────────── + ────────────────────────────────────────────────────────────────\n",
       "                                                                              \n",
       "\n",
       "                                                                              \n",
       "eta₃) - cos(\\theta₁ - \\theta₂) - cos(\\theta₁ + \\theta₄) + cos(\\theta₂ + \\theta\n",
       "──────────────────────────────────────────────────────────────────────────────\n",
       "                                                                              \n",
       "\n",
       "                                                                              \n",
       "₄) + cos(-\\theta₀ + \\theta₁ + \\theta₃) - cos(-\\theta₀ + \\theta₃ + \\theta₄) - c\n",
       "──────────────────────────────────────────────────────────────────────────────\n",
       "                                                                              \n",
       "\n",
       "                                                                              \n",
       "os(\\theta₀ - \\theta₂ + \\theta₃) - cos(-\\theta₁ + \\theta₂ + \\theta₄) - cos(-\\th\n",
       "──────────────────────────────────────────────────────────────────────────────\n",
       "                    256                                                       \n",
       "\n",
       "                                                                              \n",
       "eta₀ + \\theta₂ + \\theta₃ + \\theta₄) + cos(\\theta₀ - \\theta₁ + \\theta₃ + \\theta\n",
       "──────────────────────────────────────────────────────────────────────────────\n",
       "                                                                              \n",
       "\n",
       "                                                                              \n",
       "₄) + cos(\\theta₀ + \\theta₁ + \\theta₂ - \\theta₃) + cos(\\theta₀ + \\theta₁ + \\the\n",
       "──────────────────────────────────────────────────────────────────────────────\n",
       "                                                                              \n",
       "\n",
       "                             2\n",
       "ta₂ + \\theta₃ + \\theta₄) + 1) \n",
       "──────────────────────────────\n",
       "                              "
      ]
     },
     "metadata": {},
     "output_type": "display_data"
    }
   ],
   "source": [
    "p0100 = ((+sin(t1)-sin(t2)-sin(t4)+sin(t0+t3)-sin(t1-t2)+sin(t1+t4)-sin(t2+t4)-sin(-t0+t1+t3)-sin(-t0+t3+t4)+sin(t0-t2+t3)+sin(-t1+t2+t4)-sin(-t0+t2+t3+t4)+sin(t0-t1+t3+t4)+sin(t0+t1+t2-t3)+sin(t0+t1+t2+t3+t4))**2)/256+((-cos(t1)+cos(t2)+cos(t4)-cos(t0+t3)-cos(t1-t2)-cos(t1+t4)+cos(t2+t4)+cos(-t0+t1+t3)-cos(-t0+t3+t4)-cos(t0-t2+t3)-cos(-t1+t2+t4)-cos(-t0+t2+t3+t4)+cos(t0-t1+t3+t4)+cos(t0+t1+t2-t3)+cos(t0+t1+t2+t3+t4)+1)**2)/256\n",
    "\n",
    "display(p0100)"
   ]
  },
  {
   "cell_type": "code",
   "execution_count": 54,
   "id": "c0f5bc63",
   "metadata": {},
   "outputs": [
    {
     "data": {
      "text/latex": [
       "$\\displaystyle \\frac{\\cos{\\left(\\theta_{2} \\right)}}{16} + \\frac{\\cos{\\left(\\theta_{4} \\right)}}{16} + \\frac{\\cos{\\left(2 \\theta_{1} - \\theta_{2} \\right)}}{32} + \\frac{\\cos{\\left(2 \\theta_{1} + \\theta_{2} \\right)}}{32} + \\frac{\\cos{\\left(\\theta_{2} - \\theta_{4} \\right)}}{64} + \\frac{\\cos{\\left(\\theta_{2} + \\theta_{4} \\right)}}{64} + \\frac{\\cos{\\left(2 \\theta_{3} + \\theta_{4} \\right)}}{16} + \\frac{\\cos{\\left(- \\theta_{0} + \\theta_{1} + \\theta_{3} \\right)}}{64} + \\frac{\\cos{\\left(\\theta_{0} - \\theta_{1} + \\theta_{3} \\right)}}{64} + \\frac{\\cos{\\left(- 2 \\theta_{1} + \\theta_{2} + \\theta_{4} \\right)}}{64} + \\frac{\\cos{\\left(2 \\theta_{1} - \\theta_{2} + \\theta_{4} \\right)}}{64} + \\frac{\\cos{\\left(- \\theta_{2} + 2 \\theta_{3} + \\theta_{4} \\right)}}{64} + \\frac{\\cos{\\left(\\theta_{2} + 2 \\theta_{3} + \\theta_{4} \\right)}}{64} + \\frac{\\cos{\\left(- \\theta_{0} + \\theta_{1} + \\theta_{3} + \\theta_{4} \\right)}}{64} + \\frac{\\cos{\\left(- \\theta_{0} + \\theta_{1} + \\theta_{3} + 2 \\theta_{4} \\right)}}{64} + \\frac{\\cos{\\left(\\theta_{0} - \\theta_{1} - \\theta_{2} + \\theta_{3} \\right)}}{64} + \\frac{\\cos{\\left(\\theta_{0} - \\theta_{1} + \\theta_{2} - \\theta_{3} \\right)}}{64} + \\frac{\\cos{\\left(\\theta_{0} - \\theta_{1} - \\theta_{3} + \\theta_{4} \\right)}}{64} + \\frac{\\cos{\\left(\\theta_{0} - \\theta_{1} + \\theta_{3} - \\theta_{4} \\right)}}{64} + \\frac{\\cos{\\left(\\theta_{0} - \\theta_{1} + \\theta_{3} + \\theta_{4} \\right)}}{64} + \\frac{\\cos{\\left(\\theta_{0} - \\theta_{1} + \\theta_{3} + 2 \\theta_{4} \\right)}}{64} + \\frac{\\cos{\\left(\\theta_{0} + \\theta_{1} - 2 \\theta_{2} + \\theta_{3} \\right)}}{64} + \\frac{\\cos{\\left(\\theta_{0} + \\theta_{1} - \\theta_{2} + \\theta_{3} \\right)}}{64} + \\frac{\\cos{\\left(\\theta_{0} + \\theta_{1} + \\theta_{2} - \\theta_{3} \\right)}}{64} + \\frac{\\cos{\\left(\\theta_{0} + \\theta_{1} + 2 \\theta_{2} - \\theta_{3} \\right)}}{64} + \\frac{\\cos{\\left(2 \\theta_{1} + \\theta_{2} - 2 \\theta_{3} - \\theta_{4} \\right)}}{64} + \\frac{\\cos{\\left(2 \\theta_{1} + \\theta_{2} + 2 \\theta_{3} + \\theta_{4} \\right)}}{64} + \\frac{\\cos{\\left(- \\theta_{0} - \\theta_{1} + \\theta_{2} + \\theta_{3} + \\theta_{4} \\right)}}{64} + \\frac{\\cos{\\left(- \\theta_{0} - \\theta_{1} + \\theta_{2} + \\theta_{3} + 2 \\theta_{4} \\right)}}{64} + \\frac{\\cos{\\left(- \\theta_{0} - \\theta_{1} + 2 \\theta_{2} + \\theta_{3} + \\theta_{4} \\right)}}{64} + \\frac{\\cos{\\left(- \\theta_{0} - \\theta_{1} + 2 \\theta_{2} + \\theta_{3} + 2 \\theta_{4} \\right)}}{64} + \\frac{\\cos{\\left(- \\theta_{0} + \\theta_{1} + \\theta_{2} - \\theta_{3} + \\theta_{4} \\right)}}{64} + \\frac{\\cos{\\left(- \\theta_{0} + \\theta_{1} + \\theta_{2} + \\theta_{3} + \\theta_{4} \\right)}}{64} + \\frac{\\cos{\\left(- \\theta_{0} + \\theta_{1} + \\theta_{2} + \\theta_{3} + 2 \\theta_{4} \\right)}}{64} + \\frac{\\cos{\\left(\\theta_{0} - \\theta_{1} + \\theta_{2} - \\theta_{3} + \\theta_{4} \\right)}}{64} + \\frac{\\cos{\\left(\\theta_{0} - \\theta_{1} + \\theta_{2} + \\theta_{3} + \\theta_{4} \\right)}}{64} + \\frac{\\cos{\\left(\\theta_{0} - \\theta_{1} + \\theta_{2} + \\theta_{3} + 2 \\theta_{4} \\right)}}{64} + \\frac{\\cos{\\left(\\theta_{0} + \\theta_{1} - 2 \\theta_{2} + \\theta_{3} - \\theta_{4} \\right)}}{64} + \\frac{\\cos{\\left(\\theta_{0} + \\theta_{1} - \\theta_{2} + \\theta_{3} - \\theta_{4} \\right)}}{64} + \\frac{\\cos{\\left(\\theta_{0} + \\theta_{1} + \\theta_{2} - \\theta_{3} + \\theta_{4} \\right)}}{64} + \\frac{\\cos{\\left(\\theta_{0} + \\theta_{1} + \\theta_{2} + \\theta_{3} + \\theta_{4} \\right)}}{64} + \\frac{\\cos{\\left(\\theta_{0} + \\theta_{1} + \\theta_{2} + \\theta_{3} + 2 \\theta_{4} \\right)}}{64} + \\frac{\\cos{\\left(\\theta_{0} + \\theta_{1} + 2 \\theta_{2} - \\theta_{3} + \\theta_{4} \\right)}}{64} + \\frac{\\cos{\\left(\\theta_{0} + \\theta_{1} + 2 \\theta_{2} + \\theta_{3} + \\theta_{4} \\right)}}{64} + \\frac{\\cos{\\left(\\theta_{0} + \\theta_{1} + 2 \\theta_{2} + \\theta_{3} + 2 \\theta_{4} \\right)}}{64} + \\frac{1}{8}$"
      ],
      "text/plain": [
       "cos(\\theta₂)   cos(\\theta₄)   cos(2⋅\\theta₁ - \\theta₂)   cos(2⋅\\theta₁ + \\thet\n",
       "──────────── + ──────────── + ──────────────────────── + ─────────────────────\n",
       "     16             16                   32                         32        \n",
       "\n",
       "a₂)   cos(\\theta₂ - \\theta₄)   cos(\\theta₂ + \\theta₄)   cos(2⋅\\theta₃ + \\theta\n",
       "─── + ────────────────────── + ────────────────────── + ──────────────────────\n",
       "                64                       64                        16         \n",
       "\n",
       "₄)   cos(-\\theta₀ + \\theta₁ + \\theta₃)   cos(\\theta₀ - \\theta₁ + \\theta₃)   co\n",
       "── + ───────────────────────────────── + ──────────────────────────────── + ──\n",
       "                     64                                 64                    \n",
       "\n",
       "s(-2⋅\\theta₁ + \\theta₂ + \\theta₄)   cos(2⋅\\theta₁ - \\theta₂ + \\theta₄)   cos(-\n",
       "───────────────────────────────── + ────────────────────────────────── + ─────\n",
       "               64                                   64                        \n",
       "\n",
       "\\theta₂ + 2⋅\\theta₃ + \\theta₄)   cos(\\theta₂ + 2⋅\\theta₃ + \\theta₄)   cos(-\\th\n",
       "────────────────────────────── + ────────────────────────────────── + ────────\n",
       "            64                                   64                           \n",
       "\n",
       "eta₀ + \\theta₁ + \\theta₃ + \\theta₄)   cos(-\\theta₀ + \\theta₁ + \\theta₃ + 2⋅\\th\n",
       "─────────────────────────────────── + ────────────────────────────────────────\n",
       "             64                                             64                \n",
       "\n",
       "eta₄)   cos(\\theta₀ - \\theta₁ - \\theta₂ + \\theta₃)   cos(\\theta₀ - \\theta₁ + \\\n",
       "───── + ────────────────────────────────────────── + ─────────────────────────\n",
       "                            64                                           64   \n",
       "\n",
       "theta₂ - \\theta₃)   cos(\\theta₀ - \\theta₁ - \\theta₃ + \\theta₄)   cos(\\theta₀ -\n",
       "───────────────── + ────────────────────────────────────────── + ─────────────\n",
       "                                        64                                    \n",
       "\n",
       " \\theta₁ + \\theta₃ - \\theta₄)   cos(\\theta₀ - \\theta₁ + \\theta₃ + \\theta₄)   c\n",
       "───────────────────────────── + ────────────────────────────────────────── + ─\n",
       "       64                                           64                        \n",
       "\n",
       "os(\\theta₀ - \\theta₁ + \\theta₃ + 2⋅\\theta₄)   cos(\\theta₀ + \\theta₁ - 2⋅\\theta\n",
       "─────────────────────────────────────────── + ────────────────────────────────\n",
       "                    64                                             64         \n",
       "\n",
       "₂ + \\theta₃)   cos(\\theta₀ + \\theta₁ - \\theta₂ + \\theta₃)   cos(\\theta₀ + \\the\n",
       "──────────── + ────────────────────────────────────────── + ──────────────────\n",
       "                                   64                                         \n",
       "\n",
       "ta₁ + \\theta₂ - \\theta₃)   cos(\\theta₀ + \\theta₁ + 2⋅\\theta₂ - \\theta₃)   cos(\n",
       "──────────────────────── + ──────────────────────────────────────────── + ────\n",
       "  64                                            64                            \n",
       "\n",
       "2⋅\\theta₁ + \\theta₂ - 2⋅\\theta₃ - \\theta₄)   cos(2⋅\\theta₁ + \\theta₂ + 2⋅\\thet\n",
       "────────────────────────────────────────── + ─────────────────────────────────\n",
       "                  64                                               64         \n",
       "\n",
       "a₃ + \\theta₄)   cos(-\\theta₀ - \\theta₁ + \\theta₂ + \\theta₃ + \\theta₄)   cos(-\\\n",
       "───────────── + ───────────────────────────────────────────────────── + ──────\n",
       "                                          64                                  \n",
       "\n",
       "theta₀ - \\theta₁ + \\theta₂ + \\theta₃ + 2⋅\\theta₄)   cos(-\\theta₀ - \\theta₁ + 2\n",
       "───────────────────────────────────────────────── + ──────────────────────────\n",
       "                     64                                                       \n",
       "\n",
       "⋅\\theta₂ + \\theta₃ + \\theta₄)   cos(-\\theta₀ - \\theta₁ + 2⋅\\theta₂ + \\theta₃ +\n",
       "───────────────────────────── + ──────────────────────────────────────────────\n",
       " 64                                                         64                \n",
       "\n",
       " 2⋅\\theta₄)   cos(-\\theta₀ + \\theta₁ + \\theta₂ - \\theta₃ + \\theta₄)   cos(-\\th\n",
       "─────────── + ───────────────────────────────────────────────────── + ────────\n",
       "                                        64                                    \n",
       "\n",
       "eta₀ + \\theta₁ + \\theta₂ + \\theta₃ + \\theta₄)   cos(-\\theta₀ + \\theta₁ + \\thet\n",
       "───────────────────────────────────────────── + ──────────────────────────────\n",
       "                  64                                                       64 \n",
       "\n",
       "a₂ + \\theta₃ + 2⋅\\theta₄)   cos(\\theta₀ - \\theta₁ + \\theta₂ - \\theta₃ + \\theta\n",
       "───────────────────────── + ──────────────────────────────────────────────────\n",
       "                                                     64                       \n",
       "\n",
       "₄)   cos(\\theta₀ - \\theta₁ + \\theta₂ + \\theta₃ + \\theta₄)   cos(\\theta₀ - \\the\n",
       "── + ──────────────────────────────────────────────────── + ──────────────────\n",
       "                              64                                              \n",
       "\n",
       "ta₁ + \\theta₂ + \\theta₃ + 2⋅\\theta₄)   cos(\\theta₀ + \\theta₁ - 2⋅\\theta₂ + \\th\n",
       "──────────────────────────────────── + ───────────────────────────────────────\n",
       "        64                                                       64           \n",
       "\n",
       "eta₃ - \\theta₄)   cos(\\theta₀ + \\theta₁ - \\theta₂ + \\theta₃ - \\theta₄)   cos(\\\n",
       "─────────────── + ──────────────────────────────────────────────────── + ─────\n",
       "                                           64                                 \n",
       "\n",
       "theta₀ + \\theta₁ + \\theta₂ - \\theta₃ + \\theta₄)   cos(\\theta₀ + \\theta₁ + \\the\n",
       "─────────────────────────────────────────────── + ────────────────────────────\n",
       "                    64                                                     64 \n",
       "\n",
       "ta₂ + \\theta₃ + \\theta₄)   cos(\\theta₀ + \\theta₁ + \\theta₂ + \\theta₃ + 2⋅\\thet\n",
       "──────────────────────── + ───────────────────────────────────────────────────\n",
       "                                                     64                       \n",
       "\n",
       "a₄)   cos(\\theta₀ + \\theta₁ + 2⋅\\theta₂ - \\theta₃ + \\theta₄)   cos(\\theta₀ + \\\n",
       "─── + ────────────────────────────────────────────────────── + ───────────────\n",
       "                                64                                            \n",
       "\n",
       "theta₁ + 2⋅\\theta₂ + \\theta₃ + \\theta₄)   cos(\\theta₀ + \\theta₁ + 2⋅\\theta₂ + \n",
       "─────────────────────────────────────── + ────────────────────────────────────\n",
       "           64                                                        64       \n",
       "\n",
       "\\theta₃ + 2⋅\\theta₄)   1\n",
       "──────────────────── + ─\n",
       "                       8"
      ]
     },
     "metadata": {},
     "output_type": "display_data"
    }
   ],
   "source": [
    "p0_denom = simplify(p0000+p0100)\n",
    "\n",
    "display(p0_denom)"
   ]
  },
  {
   "cell_type": "code",
   "execution_count": 55,
   "id": "c1b4bf32",
   "metadata": {},
   "outputs": [
    {
     "data": {
      "text/latex": [
       "$\\displaystyle \\frac{\\frac{\\left(\\sin{\\left(\\theta_{1} \\right)} + \\sin{\\left(\\theta_{2} \\right)} + \\sin{\\left(\\theta_{4} \\right)} + \\sin{\\left(\\theta_{0} + \\theta_{3} \\right)} - \\sin{\\left(\\theta_{1} - \\theta_{2} \\right)} + \\sin{\\left(\\theta_{1} + \\theta_{4} \\right)} + \\sin{\\left(\\theta_{2} + \\theta_{4} \\right)} + \\sin{\\left(- \\theta_{0} + \\theta_{1} + \\theta_{3} \\right)} - \\sin{\\left(- \\theta_{0} + \\theta_{3} + \\theta_{4} \\right)} + \\sin{\\left(\\theta_{0} - \\theta_{2} + \\theta_{3} \\right)} + \\sin{\\left(- \\theta_{1} + \\theta_{2} + \\theta_{4} \\right)} - \\sin{\\left(- \\theta_{0} + \\theta_{2} + \\theta_{3} + \\theta_{4} \\right)} - \\sin{\\left(\\theta_{0} - \\theta_{1} + \\theta_{3} + \\theta_{4} \\right)} - \\sin{\\left(\\theta_{0} + \\theta_{1} + \\theta_{2} - \\theta_{3} \\right)} - \\sin{\\left(\\theta_{0} + \\theta_{1} + \\theta_{2} + \\theta_{3} + \\theta_{4} \\right)}\\right)^{2}}{4} + \\frac{\\left(\\cos{\\left(\\theta_{1} \\right)} + \\cos{\\left(\\theta_{2} \\right)} + \\cos{\\left(\\theta_{4} \\right)} + \\cos{\\left(\\theta_{0} + \\theta_{3} \\right)} + \\cos{\\left(\\theta_{1} - \\theta_{2} \\right)} + \\cos{\\left(\\theta_{1} + \\theta_{4} \\right)} + \\cos{\\left(\\theta_{2} + \\theta_{4} \\right)} + \\cos{\\left(- \\theta_{0} + \\theta_{1} + \\theta_{3} \\right)} + \\cos{\\left(- \\theta_{0} + \\theta_{3} + \\theta_{4} \\right)} + \\cos{\\left(\\theta_{0} - \\theta_{2} + \\theta_{3} \\right)} + \\cos{\\left(- \\theta_{1} + \\theta_{2} + \\theta_{4} \\right)} + \\cos{\\left(- \\theta_{0} + \\theta_{2} + \\theta_{3} + \\theta_{4} \\right)} + \\cos{\\left(\\theta_{0} - \\theta_{1} + \\theta_{3} + \\theta_{4} \\right)} + \\cos{\\left(\\theta_{0} + \\theta_{1} + \\theta_{2} - \\theta_{3} \\right)} + \\cos{\\left(\\theta_{0} + \\theta_{1} + \\theta_{2} + \\theta_{3} + \\theta_{4} \\right)} + 1\\right)^{2}}{4}}{4 \\cos{\\left(\\theta_{2} \\right)} + 4 \\cos{\\left(\\theta_{4} \\right)} + 2 \\cos{\\left(2 \\theta_{1} - \\theta_{2} \\right)} + 2 \\cos{\\left(2 \\theta_{1} + \\theta_{2} \\right)} + \\cos{\\left(\\theta_{2} - \\theta_{4} \\right)} + \\cos{\\left(\\theta_{2} + \\theta_{4} \\right)} + 4 \\cos{\\left(2 \\theta_{3} + \\theta_{4} \\right)} + \\cos{\\left(- \\theta_{0} + \\theta_{1} + \\theta_{3} \\right)} + \\cos{\\left(\\theta_{0} - \\theta_{1} + \\theta_{3} \\right)} + \\cos{\\left(- 2 \\theta_{1} + \\theta_{2} + \\theta_{4} \\right)} + \\cos{\\left(2 \\theta_{1} - \\theta_{2} + \\theta_{4} \\right)} + \\cos{\\left(- \\theta_{2} + 2 \\theta_{3} + \\theta_{4} \\right)} + \\cos{\\left(\\theta_{2} + 2 \\theta_{3} + \\theta_{4} \\right)} + \\cos{\\left(- \\theta_{0} + \\theta_{1} + \\theta_{3} + \\theta_{4} \\right)} + \\cos{\\left(- \\theta_{0} + \\theta_{1} + \\theta_{3} + 2 \\theta_{4} \\right)} + \\cos{\\left(\\theta_{0} - \\theta_{1} - \\theta_{2} + \\theta_{3} \\right)} + \\cos{\\left(\\theta_{0} - \\theta_{1} + \\theta_{2} - \\theta_{3} \\right)} + \\cos{\\left(\\theta_{0} - \\theta_{1} - \\theta_{3} + \\theta_{4} \\right)} + \\cos{\\left(\\theta_{0} - \\theta_{1} + \\theta_{3} - \\theta_{4} \\right)} + \\cos{\\left(\\theta_{0} - \\theta_{1} + \\theta_{3} + \\theta_{4} \\right)} + \\cos{\\left(\\theta_{0} - \\theta_{1} + \\theta_{3} + 2 \\theta_{4} \\right)} + \\cos{\\left(\\theta_{0} + \\theta_{1} - 2 \\theta_{2} + \\theta_{3} \\right)} + \\cos{\\left(\\theta_{0} + \\theta_{1} - \\theta_{2} + \\theta_{3} \\right)} + \\cos{\\left(\\theta_{0} + \\theta_{1} + \\theta_{2} - \\theta_{3} \\right)} + \\cos{\\left(\\theta_{0} + \\theta_{1} + 2 \\theta_{2} - \\theta_{3} \\right)} + \\cos{\\left(2 \\theta_{1} + \\theta_{2} - 2 \\theta_{3} - \\theta_{4} \\right)} + \\cos{\\left(2 \\theta_{1} + \\theta_{2} + 2 \\theta_{3} + \\theta_{4} \\right)} + \\cos{\\left(- \\theta_{0} - \\theta_{1} + \\theta_{2} + \\theta_{3} + \\theta_{4} \\right)} + \\cos{\\left(- \\theta_{0} - \\theta_{1} + \\theta_{2} + \\theta_{3} + 2 \\theta_{4} \\right)} + \\cos{\\left(- \\theta_{0} - \\theta_{1} + 2 \\theta_{2} + \\theta_{3} + \\theta_{4} \\right)} + \\cos{\\left(- \\theta_{0} - \\theta_{1} + 2 \\theta_{2} + \\theta_{3} + 2 \\theta_{4} \\right)} + \\cos{\\left(- \\theta_{0} + \\theta_{1} + \\theta_{2} - \\theta_{3} + \\theta_{4} \\right)} + \\cos{\\left(- \\theta_{0} + \\theta_{1} + \\theta_{2} + \\theta_{3} + \\theta_{4} \\right)} + \\cos{\\left(- \\theta_{0} + \\theta_{1} + \\theta_{2} + \\theta_{3} + 2 \\theta_{4} \\right)} + \\cos{\\left(\\theta_{0} - \\theta_{1} + \\theta_{2} - \\theta_{3} + \\theta_{4} \\right)} + \\cos{\\left(\\theta_{0} - \\theta_{1} + \\theta_{2} + \\theta_{3} + \\theta_{4} \\right)} + \\cos{\\left(\\theta_{0} - \\theta_{1} + \\theta_{2} + \\theta_{3} + 2 \\theta_{4} \\right)} + \\cos{\\left(\\theta_{0} + \\theta_{1} - 2 \\theta_{2} + \\theta_{3} - \\theta_{4} \\right)} + \\cos{\\left(\\theta_{0} + \\theta_{1} - \\theta_{2} + \\theta_{3} - \\theta_{4} \\right)} + \\cos{\\left(\\theta_{0} + \\theta_{1} + \\theta_{2} - \\theta_{3} + \\theta_{4} \\right)} + \\cos{\\left(\\theta_{0} + \\theta_{1} + \\theta_{2} + \\theta_{3} + \\theta_{4} \\right)} + \\cos{\\left(\\theta_{0} + \\theta_{1} + \\theta_{2} + \\theta_{3} + 2 \\theta_{4} \\right)} + \\cos{\\left(\\theta_{0} + \\theta_{1} + 2 \\theta_{2} - \\theta_{3} + \\theta_{4} \\right)} + \\cos{\\left(\\theta_{0} + \\theta_{1} + 2 \\theta_{2} + \\theta_{3} + \\theta_{4} \\right)} + \\cos{\\left(\\theta_{0} + \\theta_{1} + 2 \\theta_{2} + \\theta_{3} + 2 \\theta_{4} \\right)} + 8}$"
      ],
      "text/plain": [
       "                                                                              \n",
       "                                                                              \n",
       "                                                                              \n",
       "                                                                              \n",
       "──────────────────────────────────────────────────────────────────────────────\n",
       "4⋅cos(\\theta₂) + 4⋅cos(\\theta₄) + 2⋅cos(2⋅\\theta₁ - \\theta₂) + 2⋅cos(2⋅\\theta₁\n",
       "\n",
       "                                                                              \n",
       "                                                                              \n",
       "                                                                              \n",
       "                                                                              \n",
       "──────────────────────────────────────────────────────────────────────────────\n",
       " + \\theta₂) + cos(\\theta₂ - \\theta₄) + cos(\\theta₂ + \\theta₄) + 4⋅cos(2⋅\\theta\n",
       "\n",
       "                                                                              \n",
       "                                                                              \n",
       "                                                                              \n",
       "                                                                              \n",
       "──────────────────────────────────────────────────────────────────────────────\n",
       "₃ + \\theta₄) + cos(-\\theta₀ + \\theta₁ + \\theta₃) + cos(\\theta₀ - \\theta₁ + \\th\n",
       "\n",
       "                                                                              \n",
       "                                                                              \n",
       "                                                                              \n",
       "                                                                              \n",
       "──────────────────────────────────────────────────────────────────────────────\n",
       "eta₃) + cos(-2⋅\\theta₁ + \\theta₂ + \\theta₄) + cos(2⋅\\theta₁ - \\theta₂ + \\theta\n",
       "\n",
       "                                                                              \n",
       "                                                                              \n",
       "                                                                              \n",
       "                                                                              \n",
       "──────────────────────────────────────────────────────────────────────────────\n",
       "₄) + cos(-\\theta₂ + 2⋅\\theta₃ + \\theta₄) + cos(\\theta₂ + 2⋅\\theta₃ + \\theta₄) \n",
       "\n",
       "                                                                              \n",
       "                                                                              \n",
       "                                                                              \n",
       "                                                                              \n",
       "──────────────────────────────────────────────────────────────────────────────\n",
       "+ cos(-\\theta₀ + \\theta₁ + \\theta₃ + \\theta₄) + cos(-\\theta₀ + \\theta₁ + \\thet\n",
       "\n",
       "                                                                              \n",
       "                                                                              \n",
       "                                                                              \n",
       "                                                                              \n",
       "──────────────────────────────────────────────────────────────────────────────\n",
       "a₃ + 2⋅\\theta₄) + cos(\\theta₀ - \\theta₁ - \\theta₂ + \\theta₃) + cos(\\theta₀ - \\\n",
       "\n",
       "                                                                              \n",
       "  (sin(\\theta₁) + sin(\\theta₂) + sin(\\theta₄) + sin(\\theta₀ + \\theta₃) - sin(\\\n",
       "  ────────────────────────────────────────────────────────────────────────────\n",
       "                                                                              \n",
       "──────────────────────────────────────────────────────────────────────────────\n",
       "theta₁ + \\theta₂ - \\theta₃) + cos(\\theta₀ - \\theta₁ - \\theta₃ + \\theta₄) + cos\n",
       "\n",
       "                                                                              \n",
       "theta₁ - \\theta₂) + sin(\\theta₁ + \\theta₄) + sin(\\theta₂ + \\theta₄) + sin(-\\th\n",
       "──────────────────────────────────────────────────────────────────────────────\n",
       "                                                                              \n",
       "──────────────────────────────────────────────────────────────────────────────\n",
       "(\\theta₀ - \\theta₁ + \\theta₃ - \\theta₄) + cos(\\theta₀ - \\theta₁ + \\theta₃ + \\t\n",
       "\n",
       "                                                                              \n",
       "eta₀ + \\theta₁ + \\theta₃) - sin(-\\theta₀ + \\theta₃ + \\theta₄) + sin(\\theta₀ - \n",
       "──────────────────────────────────────────────────────────────────────────────\n",
       "                                                                              \n",
       "──────────────────────────────────────────────────────────────────────────────\n",
       "heta₄) + cos(\\theta₀ - \\theta₁ + \\theta₃ + 2⋅\\theta₄) + cos(\\theta₀ + \\theta₁ \n",
       "\n",
       "                                                                              \n",
       "\\theta₂ + \\theta₃) + sin(-\\theta₁ + \\theta₂ + \\theta₄) - sin(-\\theta₀ + \\theta\n",
       "──────────────────────────────────────────────────────────────────────────────\n",
       "       4                                                                      \n",
       "──────────────────────────────────────────────────────────────────────────────\n",
       "- 2⋅\\theta₂ + \\theta₃) + cos(\\theta₀ + \\theta₁ - \\theta₂ + \\theta₃) + cos(\\the\n",
       "\n",
       "                                                                              \n",
       "₂ + \\theta₃ + \\theta₄) - sin(\\theta₀ - \\theta₁ + \\theta₃ + \\theta₄) - sin(\\the\n",
       "──────────────────────────────────────────────────────────────────────────────\n",
       "                                                                              \n",
       "──────────────────────────────────────────────────────────────────────────────\n",
       "ta₀ + \\theta₁ + \\theta₂ - \\theta₃) + cos(\\theta₀ + \\theta₁ + 2⋅\\theta₂ - \\thet\n",
       "\n",
       "                                                                              \n",
       "ta₀ + \\theta₁ + \\theta₂ - \\theta₃) - sin(\\theta₀ + \\theta₁ + \\theta₂ + \\theta₃\n",
       "──────────────────────────────────────────────────────────────────────────────\n",
       "                                                                              \n",
       "──────────────────────────────────────────────────────────────────────────────\n",
       "a₃) + cos(2⋅\\theta₁ + \\theta₂ - 2⋅\\theta₃ - \\theta₄) + cos(2⋅\\theta₁ + \\theta₂\n",
       "\n",
       "            2                                                                 \n",
       " + \\theta₄))    (cos(\\theta₁) + cos(\\theta₂) + cos(\\theta₄) + cos(\\theta₀ + \\t\n",
       "───────────── + ──────────────────────────────────────────────────────────────\n",
       "                                                                              \n",
       "──────────────────────────────────────────────────────────────────────────────\n",
       " + 2⋅\\theta₃ + \\theta₄) + cos(-\\theta₀ - \\theta₁ + \\theta₂ + \\theta₃ + \\theta₄\n",
       "\n",
       "                                                                              \n",
       "heta₃) + cos(\\theta₁ - \\theta₂) + cos(\\theta₁ + \\theta₄) + cos(\\theta₂ + \\thet\n",
       "──────────────────────────────────────────────────────────────────────────────\n",
       "                                                                              \n",
       "──────────────────────────────────────────────────────────────────────────────\n",
       ") + cos(-\\theta₀ - \\theta₁ + \\theta₂ + \\theta₃ + 2⋅\\theta₄) + cos(-\\theta₀ - \\\n",
       "\n",
       "                                                                              \n",
       "a₄) + cos(-\\theta₀ + \\theta₁ + \\theta₃) + cos(-\\theta₀ + \\theta₃ + \\theta₄) + \n",
       "──────────────────────────────────────────────────────────────────────────────\n",
       "                                                                              \n",
       "──────────────────────────────────────────────────────────────────────────────\n",
       "theta₁ + 2⋅\\theta₂ + \\theta₃ + \\theta₄) + cos(-\\theta₀ - \\theta₁ + 2⋅\\theta₂ +\n",
       "\n",
       "                                                                              \n",
       "cos(\\theta₀ - \\theta₂ + \\theta₃) + cos(-\\theta₁ + \\theta₂ + \\theta₄) + cos(-\\t\n",
       "──────────────────────────────────────────────────────────────────────────────\n",
       "                       4                                                      \n",
       "──────────────────────────────────────────────────────────────────────────────\n",
       " \\theta₃ + 2⋅\\theta₄) + cos(-\\theta₀ + \\theta₁ + \\theta₂ - \\theta₃ + \\theta₄) \n",
       "\n",
       "                                                                              \n",
       "heta₀ + \\theta₂ + \\theta₃ + \\theta₄) + cos(\\theta₀ - \\theta₁ + \\theta₃ + \\thet\n",
       "──────────────────────────────────────────────────────────────────────────────\n",
       "                                                                              \n",
       "──────────────────────────────────────────────────────────────────────────────\n",
       "+ cos(-\\theta₀ + \\theta₁ + \\theta₂ + \\theta₃ + \\theta₄) + cos(-\\theta₀ + \\thet\n",
       "\n",
       "                                                                              \n",
       "a₄) + cos(\\theta₀ + \\theta₁ + \\theta₂ - \\theta₃) + cos(\\theta₀ + \\theta₁ + \\th\n",
       "──────────────────────────────────────────────────────────────────────────────\n",
       "                                                                              \n",
       "──────────────────────────────────────────────────────────────────────────────\n",
       "a₁ + \\theta₂ + \\theta₃ + 2⋅\\theta₄) + cos(\\theta₀ - \\theta₁ + \\theta₂ - \\theta\n",
       "\n",
       "                              2                                               \n",
       "eta₂ + \\theta₃ + \\theta₄) + 1)                                                \n",
       "───────────────────────────────                                               \n",
       "                                                                              \n",
       "──────────────────────────────────────────────────────────────────────────────\n",
       "₃ + \\theta₄) + cos(\\theta₀ - \\theta₁ + \\theta₂ + \\theta₃ + \\theta₄) + cos(\\the\n",
       "\n",
       "                                                                              \n",
       "                                                                              \n",
       "                                                                              \n",
       "                                                                              \n",
       "──────────────────────────────────────────────────────────────────────────────\n",
       "ta₀ - \\theta₁ + \\theta₂ + \\theta₃ + 2⋅\\theta₄) + cos(\\theta₀ + \\theta₁ - 2⋅\\th\n",
       "\n",
       "                                                                              \n",
       "                                                                              \n",
       "                                                                              \n",
       "                                                                              \n",
       "──────────────────────────────────────────────────────────────────────────────\n",
       "eta₂ + \\theta₃ - \\theta₄) + cos(\\theta₀ + \\theta₁ - \\theta₂ + \\theta₃ - \\theta\n",
       "\n",
       "                                                                              \n",
       "                                                                              \n",
       "                                                                              \n",
       "                                                                              \n",
       "──────────────────────────────────────────────────────────────────────────────\n",
       "₄) + cos(\\theta₀ + \\theta₁ + \\theta₂ - \\theta₃ + \\theta₄) + cos(\\theta₀ + \\the\n",
       "\n",
       "                                                                              \n",
       "                                                                              \n",
       "                                                                              \n",
       "                                                                              \n",
       "──────────────────────────────────────────────────────────────────────────────\n",
       "ta₁ + \\theta₂ + \\theta₃ + \\theta₄) + cos(\\theta₀ + \\theta₁ + \\theta₂ + \\theta₃\n",
       "\n",
       "                                                                              \n",
       "                                                                              \n",
       "                                                                              \n",
       "                                                                              \n",
       "──────────────────────────────────────────────────────────────────────────────\n",
       " + 2⋅\\theta₄) + cos(\\theta₀ + \\theta₁ + 2⋅\\theta₂ - \\theta₃ + \\theta₄) + cos(\\\n",
       "\n",
       "                                                                              \n",
       "                                                                              \n",
       "                                                                              \n",
       "                                                                              \n",
       "──────────────────────────────────────────────────────────────────────────────\n",
       "theta₀ + \\theta₁ + 2⋅\\theta₂ + \\theta₃ + \\theta₄) + cos(\\theta₀ + \\theta₁ + 2⋅\n",
       "\n",
       "                                  \n",
       "                                  \n",
       "                                  \n",
       "                                  \n",
       "──────────────────────────────────\n",
       "\\theta₂ + \\theta₃ + 2⋅\\theta₄) + 8"
      ]
     },
     "metadata": {},
     "output_type": "display_data"
    }
   ],
   "source": [
    "# calculate P(O=|0>) = P(|0000>)/( P(|0000>)+P(|0100>) )\n",
    "\n",
    "p0 = simplify(p0000/p0_denom)\n",
    "\n",
    "display(p0)"
   ]
  },
  {
   "cell_type": "code",
   "execution_count": 56,
   "id": "1431ca2d",
   "metadata": {},
   "outputs": [],
   "source": [
    "# p0_00 = (4*cos(2*t1+t2)+4*cos(2*t1-t2)+2*cos(2*t3+t4)-4*cos(t0+t1-2*t2-t3-2*t4)-4*cos(t0+t1-t2-t3-2*t4)-4*cos(t0-t1-t2-t3-2*t4)-4*cos(t0-t1-t2-t3-t4)-4*cos(t0-t1-t3)-4*cos(t0-t1-t3-2*t4)-4*cos(t0-t1-t3-t4)+4*cos(t2)-4*cos(t2-2*t3-t4)+8*cos(t4)+4*cos(2*t1-t2+t4)+4*cos(2*t1+t2+2*t3+t4)+4*cos(t0-t1+t2+t3+2*t4)+4*cos(t0-t1+t2+t3+t4)+4*cos(t0-t1+t3+2*t4)+4*cos(t0-t1+t3+t4)+4*cos(t0+t1-2*t2+t3)+4*cos(t0+t1-t2+t3)+4*cos(t0+t1+2*t2-t3)+4*cos(t0+t1+2*t2-t3+t4)+4*cos(t0+t1+2*t2+t3+2*t4)+4*cos(t0+t1+2*t2+t3+t4)+4*cos(t0+t1+t2-t3)+4*cos(t0+t1+t2-t3+t4)+4*cos(t0+t1+t2+t3+2*t4)+4*cos(t0+t1+t2+t3+t4)+4*cos(t2+2*t3+t4)+4*cos(t2+t4))/256\n",
    "\n",
    "# display(p0_00)"
   ]
  },
  {
   "cell_type": "code",
   "execution_count": 57,
   "id": "ef31be18",
   "metadata": {},
   "outputs": [],
   "source": [
    "# p0 = simplify(p0000/p0_00)\n",
    "\n",
    "# display(p0)"
   ]
  },
  {
   "cell_type": "code",
   "execution_count": 58,
   "id": "28e515da",
   "metadata": {},
   "outputs": [],
   "source": [
    "cook_0 = 1.204406074425311*3.141592653589793*2\n",
    "cook_1 = 0.4647590541304515*3.141592653589793*2\n",
    "cook_2 = 0.17828484324013236*3.141592653589793*2\n",
    "unappet_0 = 0.9555832350160824*3.141592653589793*2\n",
    "unappet_1 = 1.208010784363145*3.141592653589793*2"
   ]
  },
  {
   "cell_type": "code",
   "execution_count": 59,
   "id": "b5eb9e23",
   "metadata": {},
   "outputs": [
    {
     "data": {
      "text/latex": [
       "$\\displaystyle 0.502193262935713$"
      ],
      "text/plain": [
       "0.502193262935713"
      ]
     },
     "execution_count": 59,
     "metadata": {},
     "output_type": "execute_result"
    }
   ],
   "source": [
    "p0.subs([(t0, cook_0), (t1, cook_1), (t2, cook_2), (t3, unappet_0), (t4, unappet_1)])"
   ]
  },
  {
   "cell_type": "code",
   "execution_count": 166,
   "id": "21605b0e",
   "metadata": {},
   "outputs": [
    {
     "data": {
      "text/latex": [
       "$\\displaystyle 24.8340089932729$"
      ],
      "text/plain": [
       "24.8340089932729"
      ]
     },
     "execution_count": 166,
     "metadata": {},
     "output_type": "execute_result"
    }
   ],
   "source": [
    "num = -2*cos(2*t1+t2)-2*cos(2*t1+t2-2*t3-t4)-2*cos(2*t1-t2)-2*cos(2*t3+t4)-4*cos(t0+t1-2*t2-t3-2*t4)-4*cos(t0+t1-t2-t3-2*t4)-4*cos(t0-t1-t2-t3-2*t4)-4*cos(t0-t1-t2-t3-t4)-4*cos(t0-t1-t3)-4*cos(t0-t1-t3-2*t4)-4*cos(t0-t1-t3-t4)+4*cos(t2)-4*cos(t2-2*t3-t4)+8*cos(t4)+4*cos(2*t1-t2+t4)+4*cos(2*t1+t2+2*t3+t4)+4*cos(t0-t1+t2+t3+2*t4)+4*cos(t0-t1+t2+t3+t4)+4*cos(t0-t1+t3+2*t4)+4*cos(t0-t1+t3+t4)+16\n",
    "\n",
    "(num).subs([(t0, cook_0), (t1, cook_1), (t2, cook_2), (t3, unappet_0), (t4, unappet_1)])"
   ]
  },
  {
   "cell_type": "code",
   "execution_count": null,
   "id": "b73985be",
   "metadata": {},
   "outputs": [],
   "source": []
  },
  {
   "cell_type": "code",
   "execution_count": null,
   "id": "d81656da",
   "metadata": {},
   "outputs": [],
   "source": []
  },
  {
   "cell_type": "markdown",
   "id": "fe1924d8",
   "metadata": {},
   "source": [
    "# SXA"
   ]
  },
  {
   "cell_type": "code",
   "execution_count": 93,
   "id": "32b1efed",
   "metadata": {},
   "outputs": [],
   "source": [
    "t0 = symbols('\\\\theta_0', real=True)\n",
    "t1 = symbols('\\\\theta_1', real=True)\n",
    "pi = symbols('\\\\pi', real=True)"
   ]
  },
  {
   "cell_type": "code",
   "execution_count": 94,
   "id": "55275a5d",
   "metadata": {},
   "outputs": [],
   "source": [
    "# |phi0> = |00>\n",
    "phi0 = idx_to_vect(\"00\")\n",
    "\n",
    "# |phi1> = Rx(t0)*Rx(t1) |phi0>\n",
    "phi1 = tfv(mtp2([rx(t0), rx(t1)]), phi0)\n",
    "\n",
    "# |phi2> = CNOT[0, 1] |phi1>\n",
    "phi2 = tfv(cgate2(x(), 0, 1), phi1)\n",
    "\n",
    "# |phi3> = CNOT[1, 0] |phi2>\n",
    "phi3 = tfv(cgate2(x(), 1, 0), phi2)\n",
    "\n",
    "# |phi4> = Rx(t0)*Rx(t1) |phi3>\n",
    "phi4 = tfv(mtp2([rx(t0), rx(t1)]), phi3)\n",
    "\n",
    "# |phi5> = CNOT[0, 1] |phi4>\n",
    "phi5 = tfv(cgate2(x(), 0, 1), phi4)\n",
    "\n",
    "# |phi6> = CNOT[1, 0] |phi5>\n",
    "phi6 = tfv(cgate2(x(), 1, 0), phi5)"
   ]
  },
  {
   "cell_type": "code",
   "execution_count": 95,
   "id": "508024b1",
   "metadata": {},
   "outputs": [
    {
     "data": {
      "text/latex": [
       "$\\displaystyle \\frac{e^{i \\theta_{0}}}{4} + \\frac{e^{i \\theta_{1}}}{4} + \\frac{e^{i \\left(- \\theta_{0} - \\theta_{1}\\right)}}{4} + \\frac{1}{4}$"
      ],
      "text/plain": [
       " ⅈ⋅\\theta₀    ⅈ⋅\\theta₁    ⅈ⋅(-\\theta₀ - \\theta₁)    \n",
       "ℯ            ℯ            ℯ                         1\n",
       "────────── + ────────── + ─────────────────────── + ─\n",
       "    4            4                   4              4"
      ]
     },
     "metadata": {},
     "output_type": "display_data"
    }
   ],
   "source": [
    "# derive expression for <00|phi6>\n",
    "\n",
    "raw00 = braket(idx_to_vect(\"00\"), phi6).expand(trig=True).expand()\n",
    "\n",
    "braket00 = simplify(raw00, maxn=17, chop=True)\n",
    "temp = braket00\n",
    "for a in preorder_traversal(temp):\n",
    "    if isinstance(a, Float):\n",
    "        braket00 = braket00.subs(a, round(a, 15))\n",
    "\n",
    "display(braket00)"
   ]
  },
  {
   "cell_type": "code",
   "execution_count": 96,
   "id": "13321d50",
   "metadata": {},
   "outputs": [
    {
     "data": {
      "text/latex": [
       "$\\displaystyle \\frac{\\left(\\sin{\\left(\\theta_{0} \\right)} + \\sin{\\left(\\theta_{1} \\right)} - \\sin{\\left(\\theta_{0} + \\theta_{1} \\right)}\\right)^{2}}{16} + \\frac{\\left(\\cos{\\left(\\theta_{0} \\right)} + \\cos{\\left(\\theta_{1} \\right)} + \\cos{\\left(\\theta_{0} + \\theta_{1} \\right)} + 1\\right)^{2}}{16}$"
      ],
      "text/plain": [
       "                                                      2                       \n",
       "(sin(\\theta₀) + sin(\\theta₁) - sin(\\theta₀ + \\theta₁))    (cos(\\theta₀) + cos(\n",
       "─────────────────────────────────────────────────────── + ────────────────────\n",
       "                           16                                                 \n",
       "\n",
       "                                      2\n",
       "\\theta₁) + cos(\\theta₀ + \\theta₁) + 1) \n",
       "───────────────────────────────────────\n",
       "         16                            "
      ]
     },
     "metadata": {},
     "output_type": "display_data"
    }
   ],
   "source": [
    "# calculate P(|00>) = |<00|phi6>|\n",
    "\n",
    "p00 = simplify(re(braket00)*re(braket00)+im(braket00)*im(braket00))\n",
    "\n",
    "display(p00)"
   ]
  },
  {
   "cell_type": "code",
   "execution_count": 97,
   "id": "68ef1261",
   "metadata": {},
   "outputs": [
    {
     "data": {
      "text/latex": [
       "$\\displaystyle - \\frac{e^{i \\theta_{0}}}{4} + \\frac{e^{i \\theta_{1}}}{4} - \\frac{1}{4} + \\frac{e^{- i \\left(\\theta_{0} + \\theta_{1}\\right)}}{4}$"
      ],
      "text/plain": [
       "   ⅈ⋅\\theta₀    ⅈ⋅\\theta₁        -ⅈ⋅(\\theta₀ + \\theta₁)\n",
       "  ℯ            ℯ            1   ℯ                      \n",
       "- ────────── + ────────── - ─ + ───────────────────────\n",
       "      4            4        4              4           "
      ]
     },
     "metadata": {},
     "output_type": "display_data"
    }
   ],
   "source": [
    "# derive expression for <01|psi10>\n",
    "\n",
    "raw01 = braket(idx_to_vect(\"01\"), phi6).expand(trig=True).expand()\n",
    "\n",
    "braket01 = simplify(raw01, maxn=17, chop=True)\n",
    "temp = braket01\n",
    "for a in preorder_traversal(temp):\n",
    "    if isinstance(a, Float):\n",
    "        braket01 = braket01.subs(a, round(a, 15))\n",
    "\n",
    "display(braket01)"
   ]
  },
  {
   "cell_type": "code",
   "execution_count": 98,
   "id": "2c6d0fb1",
   "metadata": {},
   "outputs": [
    {
     "data": {
      "text/latex": [
       "$\\displaystyle \\frac{\\left(\\sin{\\left(\\theta_{0} \\right)} - \\sin{\\left(\\theta_{1} \\right)} + \\sin{\\left(\\theta_{0} + \\theta_{1} \\right)}\\right)^{2}}{16} + \\frac{\\left(- \\cos{\\left(\\theta_{0} \\right)} + \\cos{\\left(\\theta_{1} \\right)} + \\cos{\\left(\\theta_{0} + \\theta_{1} \\right)} - 1\\right)^{2}}{16}$"
      ],
      "text/plain": [
       "                                                      2                       \n",
       "(sin(\\theta₀) - sin(\\theta₁) + sin(\\theta₀ + \\theta₁))    (-cos(\\theta₀) + cos\n",
       "─────────────────────────────────────────────────────── + ────────────────────\n",
       "                           16                                                 \n",
       "\n",
       "                                       2\n",
       "(\\theta₁) + cos(\\theta₀ + \\theta₁) - 1) \n",
       "────────────────────────────────────────\n",
       "         16                             "
      ]
     },
     "metadata": {},
     "output_type": "display_data"
    }
   ],
   "source": [
    "# calculate P(|01>) = |<01|phi6>|\n",
    "\n",
    "p01 = simplify(re(braket01)*re(braket01)+im(braket01)*im(braket01))\n",
    "\n",
    "display(p01)"
   ]
  },
  {
   "cell_type": "code",
   "execution_count": 99,
   "id": "80e6d8ad",
   "metadata": {},
   "outputs": [
    {
     "data": {
      "text/latex": [
       "$\\displaystyle \\frac{\\cos{\\left(\\theta_{0} \\right)}}{4} + \\frac{\\cos{\\left(\\theta_{0} + 2 \\theta_{1} \\right)}}{4} + \\frac{1}{2}$"
      ],
      "text/plain": [
       "cos(\\theta₀)   cos(\\theta₀ + 2⋅\\theta₁)   1\n",
       "──────────── + ──────────────────────── + ─\n",
       "     4                    4               2"
      ]
     },
     "metadata": {},
     "output_type": "display_data"
    }
   ],
   "source": [
    "p0_ = simplify(p00+p01)\n",
    "\n",
    "display(p0_)"
   ]
  },
  {
   "cell_type": "code",
   "execution_count": 100,
   "id": "7a52130d",
   "metadata": {},
   "outputs": [
    {
     "data": {
      "text/latex": [
       "$\\displaystyle \\frac{\\left(\\sin{\\left(\\theta_{0} \\right)} + \\sin{\\left(\\theta_{1} \\right)} - \\sin{\\left(\\theta_{0} + \\theta_{1} \\right)}\\right)^{2} + \\left(\\cos{\\left(\\theta_{0} \\right)} + \\cos{\\left(\\theta_{1} \\right)} + \\cos{\\left(\\theta_{0} + \\theta_{1} \\right)} + 1\\right)^{2}}{4 \\left(\\cos{\\left(\\theta_{0} \\right)} + \\cos{\\left(\\theta_{0} + 2 \\theta_{1} \\right)} + 2\\right)}$"
      ],
      "text/plain": [
       "                                                      2                       \n",
       "(sin(\\theta₀) + sin(\\theta₁) - sin(\\theta₀ + \\theta₁))  + (cos(\\theta₀) + cos(\n",
       "──────────────────────────────────────────────────────────────────────────────\n",
       "                                   4⋅(cos(\\theta₀) + cos(\\theta₀ + 2⋅\\theta₁) \n",
       "\n",
       "                                      2\n",
       "\\theta₁) + cos(\\theta₀ + \\theta₁) + 1) \n",
       "───────────────────────────────────────\n",
       "+ 2)                                   "
      ]
     },
     "metadata": {},
     "output_type": "display_data"
    }
   ],
   "source": [
    "# calculate P(O=|0>) = P(|00>)/( P(|00>)+P(|01>) )\n",
    "\n",
    "f0 = simplify(p00/p0_)\n",
    "\n",
    "display(f0)"
   ]
  },
  {
   "cell_type": "code",
   "execution_count": 109,
   "id": "44a52355",
   "metadata": {},
   "outputs": [],
   "source": [
    "slow_0 = 0.7436994864265065*3.141592653589796*2\n",
    "slow_1 = 0.4019002667598174*3.141592653589796*2"
   ]
  },
  {
   "cell_type": "code",
   "execution_count": 110,
   "id": "92ec82a2",
   "metadata": {},
   "outputs": [
    {
     "data": {
      "text/latex": [
       "$\\displaystyle 0.508117328542717$"
      ],
      "text/plain": [
       "0.508117328542717"
      ]
     },
     "execution_count": 110,
     "metadata": {},
     "output_type": "execute_result"
    }
   ],
   "source": [
    "f0.subs([(t0, slow_0), (t1, slow_1)])"
   ]
  },
  {
   "cell_type": "code",
   "execution_count": 123,
   "id": "11cd4545",
   "metadata": {},
   "outputs": [
    {
     "data": {
      "text/latex": [
       "$\\displaystyle 2 \\cos{\\left(\\theta_{1} \\right)} + 2 \\cos{\\left(\\theta_{0} - \\theta_{1} \\right)} + 2 \\cos{\\left(\\theta_{0} + \\theta_{1} \\right)} + 2 \\cos{\\left(2 \\theta_{0} + \\theta_{1} \\right)}$"
      ],
      "text/plain": [
       "2⋅cos(\\theta₁) + 2⋅cos(\\theta₀ - \\theta₁) + 2⋅cos(\\theta₀ + \\theta₁) + 2⋅cos(2\n",
       "⋅\\theta₀ + \\theta₁)"
      ]
     },
     "metadata": {},
     "output_type": "display_data"
    }
   ],
   "source": [
    "num = 2*(cos(t1)+cos(t0+t1)+cos(t0-t1)+cos(2*t0+t1))\n",
    "\n",
    "display(num)"
   ]
  },
  {
   "cell_type": "code",
   "execution_count": 124,
   "id": "e3ffc82a",
   "metadata": {},
   "outputs": [
    {
     "data": {
      "text/latex": [
       "$\\displaystyle 4 \\cos{\\left(\\theta_{0} \\right)} + 4 \\cos{\\left(\\theta_{0} + 2 \\theta_{1} \\right)} + 8$"
      ],
      "text/plain": [
       "4⋅cos(\\theta₀) + 4⋅cos(\\theta₀ + 2⋅\\theta₁) + 8"
      ]
     },
     "metadata": {},
     "output_type": "display_data"
    }
   ],
   "source": [
    "denom = (4*(cos(t0)+cos(t0+2*t1)+2))\n",
    "\n",
    "display(denom)"
   ]
  },
  {
   "cell_type": "code",
   "execution_count": 125,
   "id": "df9b0530",
   "metadata": {},
   "outputs": [
    {
     "data": {
      "text/latex": [
       "$\\displaystyle 0.0326196492652886$"
      ],
      "text/plain": [
       "0.0326196492652886"
      ]
     },
     "execution_count": 125,
     "metadata": {},
     "output_type": "execute_result"
    }
   ],
   "source": [
    "num.subs([(t0, slow_0), (t1, slow_1)])"
   ]
  },
  {
   "cell_type": "code",
   "execution_count": 126,
   "id": "af9f37cf",
   "metadata": {},
   "outputs": [
    {
     "data": {
      "text/latex": [
       "$\\displaystyle 4.01852026730583$"
      ],
      "text/plain": [
       "4.01852026730583"
      ]
     },
     "execution_count": 126,
     "metadata": {},
     "output_type": "execute_result"
    }
   ],
   "source": [
    "denom.subs([(t0, slow_0), (t1, slow_1)])"
   ]
  },
  {
   "cell_type": "code",
   "execution_count": 138,
   "id": "b5d80719",
   "metadata": {},
   "outputs": [
    {
     "data": {
      "text/latex": [
       "$\\displaystyle -0.0395769552259158$"
      ],
      "text/plain": [
       "-0.0395769552259158"
      ]
     },
     "execution_count": 138,
     "metadata": {},
     "output_type": "execute_result"
    }
   ],
   "source": [
    "(cos(t0)).subs([(t0, slow_0), (t1, slow_1)])"
   ]
  },
  {
   "cell_type": "code",
   "execution_count": 143,
   "id": "a6ce83a0",
   "metadata": {},
   "outputs": [
    {
     "data": {
      "text/latex": [
       "$\\displaystyle 0.00811732854271707$"
      ],
      "text/plain": [
       "0.00811732854271707"
      ]
     },
     "execution_count": 143,
     "metadata": {},
     "output_type": "execute_result"
    }
   ],
   "source": [
    "zero = 2*(cos(t1)+cos(t0+t1)+cos(t0-t1)+cos(2*t0+t1))/(4*(cos(t0)+cos(t0+2*t1)+2))\n",
    "\n",
    "zero.subs([(t0, slow_0), (t1, slow_1)])"
   ]
  },
  {
   "cell_type": "code",
   "execution_count": 155,
   "id": "8ddb52f9",
   "metadata": {},
   "outputs": [
    {
     "data": {
      "text/latex": [
       "$\\displaystyle 1$"
      ],
      "text/plain": [
       "1"
      ]
     },
     "execution_count": 155,
     "metadata": {},
     "output_type": "execute_result"
    }
   ],
   "source": [
    "(cos(t0)).subs([(t0, 0), (t1, slow_1)])"
   ]
  },
  {
   "cell_type": "code",
   "execution_count": 156,
   "id": "800412cd",
   "metadata": {},
   "outputs": [
    {
     "data": {
      "text/latex": [
       "$\\displaystyle -0.815977158898529$"
      ],
      "text/plain": [
       "-0.815977158898529"
      ]
     },
     "execution_count": 156,
     "metadata": {},
     "output_type": "execute_result"
    }
   ],
   "source": [
    "(cos(t1)).subs([(t0,0), (t1, slow_1)])"
   ]
  },
  {
   "cell_type": "code",
   "execution_count": 157,
   "id": "019f42db",
   "metadata": {},
   "outputs": [
    {
     "data": {
      "text/latex": [
       "$\\displaystyle -0.815977158898529$"
      ],
      "text/plain": [
       "-0.815977158898529"
      ]
     },
     "execution_count": 157,
     "metadata": {},
     "output_type": "execute_result"
    }
   ],
   "source": [
    "(cos(t0+t1)).subs([(t0, 0), (t1, slow_1)])"
   ]
  },
  {
   "cell_type": "code",
   "execution_count": null,
   "id": "d0e982ce",
   "metadata": {},
   "outputs": [],
   "source": []
  }
 ],
 "metadata": {
  "kernelspec": {
   "display_name": "Python 3 (ipykernel)",
   "language": "python",
   "name": "python3"
  },
  "language_info": {
   "codemirror_mode": {
    "name": "ipython",
    "version": 3
   },
   "file_extension": ".py",
   "mimetype": "text/x-python",
   "name": "python",
   "nbconvert_exporter": "python",
   "pygments_lexer": "ipython3",
   "version": "3.11.6"
  }
 },
 "nbformat": 4,
 "nbformat_minor": 5
}
